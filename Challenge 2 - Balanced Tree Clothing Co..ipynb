{
    "metadata": {
        "kernelspec": {
            "name": "SQL",
            "display_name": "SQL",
            "language": "sql"
        },
        "language_info": {
            "name": "sql",
            "version": ""
        }
    },
    "nbformat_minor": 2,
    "nbformat": 4,
    "cells": [
        {
            "cell_type": "markdown",
            "source": [
                "[Challenge 2](https:\\8weeksqlchallenge.com\\case-study-8\\)"
            ],
            "metadata": {
                "azdata_cell_guid": "5e19d583-1d76-4293-b825-e14b3887c00c"
            },
            "attachments": {}
        },
        {
            "cell_type": "markdown",
            "source": [
                "<span style=\"font-size:14px;\"><b><i>Sales Analysis</i></b></span>\n",
                "\n",
                "<span style=\"font-size:14px;\"><b><i>1. What was the total quantity sold for all products?</i></b></span>"
            ],
            "metadata": {
                "azdata_cell_guid": "4da3a0f9-65a9-4487-8d32-2b9a57fae84d"
            },
            "attachments": {}
        },
        {
            "cell_type": "code",
            "source": [
                "select \r\n",
                "    t1.product_name,\r\n",
                "    t2.[total quantity]\r\n",
                "from balanced_tree.product_details t1 join (\r\n",
                "    select \r\n",
                "        prod_id,\r\n",
                "        sum(qty) as [total quantity]\r\n",
                "    from balanced_tree.sales\r\n",
                "    group by prod_id\r\n",
                ") t2 on t1.product_id = t2.prod_id;"
            ],
            "metadata": {
                "azdata_cell_guid": "8fea0784-fbd7-42ed-9a56-35478f6c8e56",
                "language": "sql"
            },
            "outputs": [
                {
                    "output_type": "display_data",
                    "data": {
                        "text/html": "(12 rows affected)"
                    },
                    "metadata": {}
                },
                {
                    "output_type": "display_data",
                    "data": {
                        "text/html": "Total execution time: 00:00:00.074"
                    },
                    "metadata": {}
                },
                {
                    "output_type": "execute_result",
                    "execution_count": 1,
                    "data": {
                        "application/vnd.dataresource+json": {
                            "schema": {
                                "fields": [
                                    {
                                        "name": "product_name"
                                    },
                                    {
                                        "name": "total quantity"
                                    }
                                ]
                            },
                            "data": [
                                {
                                    "product_name": "Navy Oversized Jeans - Womens",
                                    "total quantity": "3843"
                                },
                                {
                                    "product_name": "Black Straight Jeans - Womens",
                                    "total quantity": "3777"
                                },
                                {
                                    "product_name": "Cream Relaxed Jeans - Womens",
                                    "total quantity": "3696"
                                },
                                {
                                    "product_name": "Khaki Suit Jacket - Womens",
                                    "total quantity": "3749"
                                },
                                {
                                    "product_name": "Indigo Rain Jacket - Womens",
                                    "total quantity": "3748"
                                },
                                {
                                    "product_name": "Grey Fashion Jacket - Womens",
                                    "total quantity": "3873"
                                },
                                {
                                    "product_name": "White Tee Shirt - Mens",
                                    "total quantity": "3793"
                                },
                                {
                                    "product_name": "Teal Button Up Shirt - Mens",
                                    "total quantity": "3642"
                                },
                                {
                                    "product_name": "Blue Polo Shirt - Mens",
                                    "total quantity": "3815"
                                },
                                {
                                    "product_name": "Navy Solid Socks - Mens",
                                    "total quantity": "3779"
                                },
                                {
                                    "product_name": "White Striped Socks - Mens",
                                    "total quantity": "3645"
                                },
                                {
                                    "product_name": "Pink Fluro Polkadot Socks - Mens",
                                    "total quantity": "3766"
                                }
                            ]
                        },
                        "text/html": "<table><tr><th>product_name</th><th>total quantity</th></tr><tr><td>Navy Oversized Jeans - Womens</td><td>3843</td></tr><tr><td>Black Straight Jeans - Womens</td><td>3777</td></tr><tr><td>Cream Relaxed Jeans - Womens</td><td>3696</td></tr><tr><td>Khaki Suit Jacket - Womens</td><td>3749</td></tr><tr><td>Indigo Rain Jacket - Womens</td><td>3748</td></tr><tr><td>Grey Fashion Jacket - Womens</td><td>3873</td></tr><tr><td>White Tee Shirt - Mens</td><td>3793</td></tr><tr><td>Teal Button Up Shirt - Mens</td><td>3642</td></tr><tr><td>Blue Polo Shirt - Mens</td><td>3815</td></tr><tr><td>Navy Solid Socks - Mens</td><td>3779</td></tr><tr><td>White Striped Socks - Mens</td><td>3645</td></tr><tr><td>Pink Fluro Polkadot Socks - Mens</td><td>3766</td></tr></table>"
                    },
                    "metadata": {}
                }
            ],
            "execution_count": 1
        },
        {
            "cell_type": "markdown",
            "source": [
                "<span style=\"font-size:14px;\"><b><i>2. What is the total generated revenue for all products before discounts?</i></b></span>"
            ],
            "metadata": {
                "language": "sql",
                "azdata_cell_guid": "a1b77210-7688-4b58-bf22-4153832e6628"
            },
            "attachments": {}
        },
        {
            "cell_type": "code",
            "source": [
                "with cte0 as (\r\n",
                "\tselect \r\n",
                "\t\ttxn_id,\r\n",
                "\t\tsum(price*qty) as [revenue before discount per txn_id]\r\n",
                "\tfrom balanced_tree.sales\r\n",
                "\tgroup by txn_id\r\n",
                ")\r\n",
                "\r\n",
                "select \r\n",
                "\tsum([revenue before discount per txn_id]) as [total revenue before discount]\r\n",
                "from cte0;"
            ],
            "metadata": {
                "language": "sql",
                "azdata_cell_guid": "96cec44b-edd6-4ccf-9560-fe56935af2c9"
            },
            "outputs": [
                {
                    "output_type": "display_data",
                    "data": {
                        "text/html": "(1 row affected)"
                    },
                    "metadata": {}
                },
                {
                    "output_type": "display_data",
                    "data": {
                        "text/html": "Total execution time: 00:00:00.025"
                    },
                    "metadata": {}
                },
                {
                    "output_type": "execute_result",
                    "execution_count": 2,
                    "data": {
                        "application/vnd.dataresource+json": {
                            "schema": {
                                "fields": [
                                    {
                                        "name": "total revenue before discount"
                                    }
                                ]
                            },
                            "data": [
                                {
                                    "total revenue before discount": "1287182"
                                }
                            ]
                        },
                        "text/html": "<table><tr><th>total revenue before discount</th></tr><tr><td>1287182</td></tr></table>"
                    },
                    "metadata": {}
                }
            ],
            "execution_count": 2
        },
        {
            "cell_type": "markdown",
            "source": [
                "<span style=\"font-size:14px;\"><b><i>3. What was the total discount amount for all products?</i></b></span>"
            ],
            "metadata": {
                "language": "sql",
                "azdata_cell_guid": "a280bdbb-8aa8-4cac-b80c-379e8ab4f16f"
            },
            "attachments": {}
        },
        {
            "cell_type": "code",
            "source": [
                "with cte0 as\r\n",
                "(\r\n",
                "    select \r\n",
                "        txn_id,\r\n",
                "        sum(price*qty) as [revenue before discount per txn_id]\r\n",
                "    from balanced_tree.sales\r\n",
                "    group by txn_id\r\n",
                "), cte1 as \r\n",
                "(\r\n",
                "    select \r\n",
                "        distinct(discount),\r\n",
                "        txn_id\r\n",
                "    from balanced_tree.sales\r\n",
                "    where discount != 0\r\n",
                ")\r\n",
                "\r\n",
                "select \r\n",
                "    round(sum([revenue before discount per txn_id] - [revenue before discount per txn_id]*(100-cast(c1.discount as float))/100),2) as [total discount amount]\r\n",
                "from cte0 c0 join cte1 c1 \r\n",
                "    on c0.txn_id = c1.txn_id"
            ],
            "metadata": {
                "language": "sql",
                "azdata_cell_guid": "4c176fd5-de22-4325-84d9-acbd60bd29ea"
            },
            "outputs": [
                {
                    "output_type": "display_data",
                    "data": {
                        "text/html": "(1 row affected)"
                    },
                    "metadata": {}
                },
                {
                    "output_type": "display_data",
                    "data": {
                        "text/html": "Total execution time: 00:00:00.037"
                    },
                    "metadata": {}
                },
                {
                    "output_type": "execute_result",
                    "execution_count": 3,
                    "data": {
                        "application/vnd.dataresource+json": {
                            "schema": {
                                "fields": [
                                    {
                                        "name": "total discount amount"
                                    }
                                ]
                            },
                            "data": [
                                {
                                    "total discount amount": "155831.54"
                                }
                            ]
                        },
                        "text/html": "<table><tr><th>total discount amount</th></tr><tr><td>155831.54</td></tr></table>"
                    },
                    "metadata": {}
                }
            ],
            "execution_count": 3
        },
        {
            "cell_type": "markdown",
            "source": [
                "<span style=\"font-size:14px;\"><b><i>Transaction Analysis</i></b></span>\n",
                "\n",
                "<span style=\"font-size:14px;\"><b><i>1.How many unique transactions were there?</i></b></span>"
            ],
            "metadata": {
                "language": "sql",
                "azdata_cell_guid": "352ed416-f083-41f1-87c8-44cf4d57c6a8"
            },
            "attachments": {}
        },
        {
            "cell_type": "code",
            "source": [
                "select \r\n",
                "    count(distinct(txn_id)) as [number of unique transactions]\r\n",
                "from balanced_tree.sales;"
            ],
            "metadata": {
                "language": "sql",
                "azdata_cell_guid": "a2dff741-29fa-4880-aace-d113850d39fa"
            },
            "outputs": [
                {
                    "output_type": "display_data",
                    "data": {
                        "text/html": "(1 row affected)"
                    },
                    "metadata": {}
                },
                {
                    "output_type": "display_data",
                    "data": {
                        "text/html": "Total execution time: 00:00:00.049"
                    },
                    "metadata": {}
                },
                {
                    "output_type": "execute_result",
                    "execution_count": 4,
                    "data": {
                        "application/vnd.dataresource+json": {
                            "schema": {
                                "fields": [
                                    {
                                        "name": "number of unique transactions"
                                    }
                                ]
                            },
                            "data": [
                                {
                                    "number of unique transactions": "2496"
                                }
                            ]
                        },
                        "text/html": "<table><tr><th>number of unique transactions</th></tr><tr><td>2496</td></tr></table>"
                    },
                    "metadata": {}
                }
            ],
            "execution_count": 4
        },
        {
            "cell_type": "markdown",
            "source": [
                "<span style=\"font-size:14px;\"><b><i>2. What is the average unique products purchased in each transaction?</i></b></span>"
            ],
            "metadata": {
                "language": "sql",
                "azdata_cell_guid": "9c6e43f7-c52f-4286-b775-a3a3b0e7e34a"
            },
            "attachments": {}
        },
        {
            "cell_type": "code",
            "source": [
                "with cte1 as (\r\n",
                "\tselect \r\n",
                "\t\ttxn_id,\r\n",
                "\t\tcast(count(distinct(prod_id)) as  float) as [number of products per txn_id]\r\n",
                "\tfrom balanced_tree.sales\r\n",
                "\tgroup by txn_id\r\n",
                ")\r\n",
                "select  \r\n",
                "\tround((sum([number of products per txn_id]) / count(txn_id)),0) as [average unique products purchased in each transaction]\r\n",
                "from cte1;"
            ],
            "metadata": {
                "language": "sql",
                "azdata_cell_guid": "e6b41adf-371d-4c91-b1ed-ad3c3720a629"
            },
            "outputs": [
                {
                    "output_type": "display_data",
                    "data": {
                        "text/html": "(1 row affected)"
                    },
                    "metadata": {}
                },
                {
                    "output_type": "display_data",
                    "data": {
                        "text/html": "Total execution time: 00:00:00.022"
                    },
                    "metadata": {}
                },
                {
                    "output_type": "execute_result",
                    "execution_count": 5,
                    "data": {
                        "application/vnd.dataresource+json": {
                            "schema": {
                                "fields": [
                                    {
                                        "name": "average unique products purchased in each transaction"
                                    }
                                ]
                            },
                            "data": [
                                {
                                    "average unique products purchased in each transaction": "6"
                                }
                            ]
                        },
                        "text/html": "<table><tr><th>average unique products purchased in each transaction</th></tr><tr><td>6</td></tr></table>"
                    },
                    "metadata": {}
                }
            ],
            "execution_count": 5
        },
        {
            "cell_type": "markdown",
            "source": [
                "<span style=\"font-size:14px;\"><b><i>3. What are the 25th, 50th and 75th percentile values for the revenue per transaction?</i></b></span>"
            ],
            "metadata": {
                "language": "sql",
                "azdata_cell_guid": "5a9457c3-d864-40db-a14b-d64f3884e6fa"
            },
            "attachments": {}
        },
        {
            "cell_type": "code",
            "source": [
                "with cte0 as (\r\n",
                "\tselect \r\n",
                "\t\ttxn_id,\r\n",
                "\t\tsum(qty*price*(100-cast(discount as float))/100) [revenue per txn_id]\r\n",
                "\tfrom balanced_tree.sales\r\n",
                "\tgroup by txn_id\r\n",
                ")\r\n",
                "select \r\n",
                "    top 1\r\n",
                "        round(percentile_disc(0.25) within group (order by [revenue per txn_id]) over (),2) as [25th],\r\n",
                "        round(percentile_disc(0.5) within group (order by [revenue per txn_id]) over (),2) as [50th],\r\n",
                "        round(percentile_disc(0.75) within group (order by [revenue per txn_id]) over (),2) as [75th]\r\n",
                "from cte0 ;"
            ],
            "metadata": {
                "language": "sql",
                "azdata_cell_guid": "a314600b-e672-451f-9d39-82fa9e54d9af"
            },
            "outputs": [
                {
                    "output_type": "display_data",
                    "data": {
                        "text/html": "(1 row affected)"
                    },
                    "metadata": {}
                },
                {
                    "output_type": "display_data",
                    "data": {
                        "text/html": "Total execution time: 00:00:00.057"
                    },
                    "metadata": {}
                },
                {
                    "output_type": "execute_result",
                    "execution_count": 7,
                    "data": {
                        "application/vnd.dataresource+json": {
                            "schema": {
                                "fields": [
                                    {
                                        "name": "25th"
                                    },
                                    {
                                        "name": "50th"
                                    },
                                    {
                                        "name": "75th"
                                    }
                                ]
                            },
                            "data": [
                                {
                                    "25th": "326.18",
                                    "50th": "441.48",
                                    "75th": "572.8"
                                }
                            ]
                        },
                        "text/html": "<table><tr><th>25th</th><th>50th</th><th>75th</th></tr><tr><td>326.18</td><td>441.48</td><td>572.8</td></tr></table>"
                    },
                    "metadata": {}
                }
            ],
            "execution_count": 7
        },
        {
            "cell_type": "markdown",
            "source": [
                "<span style=\"font-size:14px;\"><b style=\"\"><i>4. What is the average discount value per transaction?</i></b></span>"
            ],
            "metadata": {
                "language": "sql",
                "azdata_cell_guid": "0bff2114-9b3b-406a-90ae-20fa8a5db7c4"
            },
            "attachments": {}
        },
        {
            "cell_type": "code",
            "source": [
                "with cte0 as\r\n",
                "(\r\n",
                "    select \r\n",
                "\t\tdistinct(txn_id) as txn_id,\r\n",
                "\t\tcast(discount as float) as discount\r\n",
                "    from balanced_tree.sales\r\n",
                "    where discount != 0\r\n",
                ")\r\n",
                "select \r\n",
                "    sum(discount) / count(txn_id) as [average discount value per transaction]\r\n",
                "from cte0;"
            ],
            "metadata": {
                "language": "sql",
                "azdata_cell_guid": "8ccfb5c8-6fa5-42bf-8fec-349dc287789b"
            },
            "outputs": [
                {
                    "output_type": "display_data",
                    "data": {
                        "text/html": "(1 row affected)"
                    },
                    "metadata": {}
                },
                {
                    "output_type": "display_data",
                    "data": {
                        "text/html": "Total execution time: 00:00:00.022"
                    },
                    "metadata": {}
                },
                {
                    "output_type": "execute_result",
                    "execution_count": 9,
                    "data": {
                        "application/vnd.dataresource+json": {
                            "schema": {
                                "fields": [
                                    {
                                        "name": "average discount value per transaction"
                                    }
                                ]
                            },
                            "data": [
                                {
                                    "average discount value per transaction": "12.5"
                                }
                            ]
                        },
                        "text/html": "<table><tr><th>average discount value per transaction</th></tr><tr><td>12.5</td></tr></table>"
                    },
                    "metadata": {}
                }
            ],
            "execution_count": 9
        },
        {
            "cell_type": "markdown",
            "source": [
                "<span style=\"font-size:14px;\"><b><i>5. What is the percentage split of all transactions for members vs non-members?</i></b></span>"
            ],
            "metadata": {
                "language": "sql",
                "azdata_cell_guid": "536f25a0-6f07-4b21-b845-13e66507a71d"
            },
            "attachments": {}
        },
        {
            "cell_type": "code",
            "source": [
                "with cte0 as (\r\n",
                "\tselect \r\n",
                "\t\tdistinct(concat('Q',\r\n",
                "\t\t\t\tcase\r\n",
                "\t\t\t\t\twhen datepart(month,start_txn_time) between 1 and 3 then 1\r\n",
                "\t\t\t\t\twhen datepart(month,start_txn_time) between 4 and 6 then 2\r\n",
                "\t\t\t\t\twhen datepart(month,start_txn_time) between 7 and 9 then 3\r\n",
                "\t\t\t\t\twhen datepart(month,start_txn_time) between 10 and 12 then 4\r\n",
                "\t\t\t\tend,\r\n",
                "\t\t\t\t'/',\r\n",
                "\t\t\t\tyear(start_txn_time))) as start_txn_time,\r\n",
                "\t\ttxn_id,\r\n",
                "\t\tmember\r\n",
                "\tfrom balanced_tree.sales\r\n",
                "), cte1 as (\r\n",
                "\tselect \r\n",
                "\t\tstart_txn_time,\r\n",
                "\t\tcast(sum(case when member = 't' then 1 else 0 end) as float) as [number of T member transactions],\r\n",
                "\t\tcast(sum(case when member = 'f' then 1 else 0 end) as float) as [number of F member transactions]\r\n",
                "\tfrom cte0\r\n",
                "\tgroup by start_txn_time\r\n",
                "), cte2 as (\r\n",
                "\tselect \r\n",
                "\t\tstart_txn_time,\r\n",
                "\t\tcount(txn_id) as [total transactions]\r\n",
                "\tfrom cte0\r\n",
                "\tgroup by start_txn_time\r\n",
                ")\r\n",
                "select \r\n",
                "\tc1.start_txn_time,\r\n",
                "\tround(c1.[number of F member transactions] / c2.[total transactions],3) as [percentage of F member transaction],\r\n",
                "\tround(c1.[number of T member transactions] / c2.[total transactions],3) as [percentage of T member transaction]\r\n",
                "from cte1 c1 join cte2 c2\r\n",
                "\ton c1.start_txn_time = c2.start_txn_time"
            ],
            "metadata": {
                "language": "sql",
                "azdata_cell_guid": "15eeb27e-771a-4981-84d4-05cda29fc1aa"
            },
            "outputs": [
                {
                    "output_type": "display_data",
                    "data": {
                        "text/html": "(1 row affected)"
                    },
                    "metadata": {}
                },
                {
                    "output_type": "display_data",
                    "data": {
                        "text/html": "Total execution time: 00:00:00.069"
                    },
                    "metadata": {}
                },
                {
                    "output_type": "execute_result",
                    "execution_count": 10,
                    "data": {
                        "application/vnd.dataresource+json": {
                            "schema": {
                                "fields": [
                                    {
                                        "name": "start_txn_time"
                                    },
                                    {
                                        "name": "percentage of F member transaction"
                                    },
                                    {
                                        "name": "percentage of T member transaction"
                                    }
                                ]
                            },
                            "data": [
                                {
                                    "start_txn_time": "Q1/2021",
                                    "percentage of F member transaction": "0.398",
                                    "percentage of T member transaction": "0.602"
                                }
                            ]
                        },
                        "text/html": "<table><tr><th>start_txn_time</th><th>percentage of F member transaction</th><th>percentage of T member transaction</th></tr><tr><td>Q1/2021</td><td>0.398</td><td>0.602</td></tr></table>"
                    },
                    "metadata": {}
                }
            ],
            "execution_count": 10
        },
        {
            "cell_type": "markdown",
            "source": [
                "<span style=\"font-size:14px;\"><b><i>6. What is the average revenue for member transactions and non-member transactions?</i></b></span>"
            ],
            "metadata": {
                "language": "sql",
                "azdata_cell_guid": "03f0f3e2-6be0-4c68-aa32-11040c8c4c65"
            },
            "attachments": {}
        },
        {
            "cell_type": "code",
            "source": [
                "with cte0 as\r\n",
                "(\r\n",
                "        select \r\n",
                "\t\t\tdistinct(concat('Q',\r\n",
                "\t\t\t\tcase\r\n",
                "\t\t\t\t\twhen datepart(month,start_txn_time) between 1 and 3 then 1\r\n",
                "\t\t\t\t\twhen datepart(month,start_txn_time) between 4 and 6 then 2\r\n",
                "\t\t\t\t\twhen datepart(month,start_txn_time) between 7 and 9 then 3\r\n",
                "\t\t\t\t\twhen datepart(month,start_txn_time) between 10 and 12 then 4\r\n",
                "\t\t\t\tend,\r\n",
                "\t\t\t\t'/',\r\n",
                "\t\t\t\tyear(start_txn_time))) as start_txn_time,\r\n",
                "            txn_id,\r\n",
                "            member,\r\n",
                "            qty,\r\n",
                "\t\t\tprice,\r\n",
                "\t\t\tcast(discount as float) as discount\r\n",
                "        from balanced_tree.sales\r\n",
                "),cte1 as (\r\n",
                "\tselect \r\n",
                "\t\tstart_txn_time,\r\n",
                "\t\ttxn_id,\r\n",
                "\t\tmember,\r\n",
                "\t\tround(sum(qty*price*(100-discount)/100),2) as revenue\r\n",
                "\tfrom cte0\r\n",
                "\tgroup by start_txn_time , txn_id , member\r\n",
                "), cte2 as (\r\n",
                "\tselect \r\n",
                "\t\tstart_txn_time,\r\n",
                "\t\tsum(case when member = 't' then revenue else 0 end) as [revenue of T member],\r\n",
                "\t\tsum(case when member = 'f' then revenue else 0 end) as [revenue of F member],\r\n",
                "\t\tsum(case when member = 't' then 1 else 0 end) as [number of T member transactions],\r\n",
                "\t\tsum(case when member = 'f' then 1 else 0 end) as [number of F member transactions]\r\n",
                "\tfrom cte1\r\n",
                "\tgroup by start_txn_time\r\n",
                ")\r\n",
                "select\r\n",
                "\tstart_txn_time,\r\n",
                "\tround([revenue of F member] / [number of F member transactions],3) as [average revenue of F member],\r\n",
                "\tround([revenue of F member] / [number of T member transactions],3) as [average revenue of T member]\r\n",
                "from cte2;"
            ],
            "metadata": {
                "language": "sql",
                "azdata_cell_guid": "c6e4c874-e5bd-4af6-881b-5d51eec7bb75"
            },
            "outputs": [
                {
                    "output_type": "display_data",
                    "data": {
                        "text/html": "(1 row affected)"
                    },
                    "metadata": {}
                },
                {
                    "output_type": "display_data",
                    "data": {
                        "text/html": "Total execution time: 00:00:00.064"
                    },
                    "metadata": {}
                },
                {
                    "output_type": "execute_result",
                    "execution_count": 11,
                    "data": {
                        "application/vnd.dataresource+json": {
                            "schema": {
                                "fields": [
                                    {
                                        "name": "start_txn_time"
                                    },
                                    {
                                        "name": "average revenue of F member"
                                    },
                                    {
                                        "name": "average revenue of T member"
                                    }
                                ]
                            },
                            "data": [
                                {
                                    "start_txn_time": "Q1/2021",
                                    "average revenue of F member": "450.518",
                                    "average revenue of T member": "298.146"
                                }
                            ]
                        },
                        "text/html": "<table><tr><th>start_txn_time</th><th>average revenue of F member</th><th>average revenue of T member</th></tr><tr><td>Q1/2021</td><td>450.518</td><td>298.146</td></tr></table>"
                    },
                    "metadata": {}
                }
            ],
            "execution_count": 11
        },
        {
            "cell_type": "markdown",
            "source": [
                "<span style=\"font-size:14px;\"><b><i>Product Analysis</i></b></span>\n",
                "\n",
                "**_1\\. What are the top 3 products by total revenue before discount?_**"
            ],
            "metadata": {
                "language": "sql",
                "azdata_cell_guid": "609620cb-a67b-4ea1-b422-bb3deffdcb5d"
            },
            "attachments": {}
        },
        {
            "cell_type": "code",
            "source": [
                "with cte1 as\r\n",
                "(\r\n",
                "    select \r\n",
                "        prod_id,\r\n",
                "        sum(qty*price) as [total revenue before discount]\r\n",
                "    from balanced_tree.sales\r\n",
                "    group by prod_id\r\n",
                ")\r\n",
                "\r\n",
                "select \r\n",
                "    top 3 \r\n",
                "    t1.product_name , \r\n",
                "    c1.[total revenue before discount]\r\n",
                "from cte1 c1 join balanced_tree.product_details t1\r\n",
                "    on c1.prod_id = t1.product_id\r\n",
                "order by [total revenue before discount] desc"
            ],
            "metadata": {
                "language": "sql",
                "azdata_cell_guid": "1d6ce342-199a-4b60-a7fd-ee6e8b0b250d"
            },
            "outputs": [
                {
                    "output_type": "display_data",
                    "data": {
                        "text/html": "(3 rows affected)"
                    },
                    "metadata": {}
                },
                {
                    "output_type": "display_data",
                    "data": {
                        "text/html": "Total execution time: 00:00:00.021"
                    },
                    "metadata": {}
                },
                {
                    "output_type": "execute_result",
                    "execution_count": 12,
                    "data": {
                        "application/vnd.dataresource+json": {
                            "schema": {
                                "fields": [
                                    {
                                        "name": "product_name"
                                    },
                                    {
                                        "name": "total revenue before discount"
                                    }
                                ]
                            },
                            "data": [
                                {
                                    "product_name": "Blue Polo Shirt - Mens",
                                    "total revenue before discount": "217455"
                                },
                                {
                                    "product_name": "Grey Fashion Jacket - Womens",
                                    "total revenue before discount": "209142"
                                },
                                {
                                    "product_name": "White Tee Shirt - Mens",
                                    "total revenue before discount": "151720"
                                }
                            ]
                        },
                        "text/html": "<table><tr><th>product_name</th><th>total revenue before discount</th></tr><tr><td>Blue Polo Shirt - Mens</td><td>217455</td></tr><tr><td>Grey Fashion Jacket - Womens</td><td>209142</td></tr><tr><td>White Tee Shirt - Mens</td><td>151720</td></tr></table>"
                    },
                    "metadata": {}
                }
            ],
            "execution_count": 12
        },
        {
            "cell_type": "markdown",
            "source": [
                "<span style=\"font-size:14px;\"><b><i>2. What is the total quantity, revenue and discount for each segment?</i></b></span>"
            ],
            "metadata": {
                "language": "sql",
                "azdata_cell_guid": "2724e0bd-d079-4caf-97e8-9b37ee0e1ae5"
            },
            "attachments": {}
        },
        {
            "cell_type": "code",
            "source": [
                "select \r\n",
                "    d.segment_name,\r\n",
                "    sum(s.qty) as [total quantity],\r\n",
                "    round(sum(s.qty*s.price*(100-cast(discount as float))/100),2) as [total revenue],\r\n",
                "    round(sum(s.qty*s.price) - sum(s.qty*s.price*(100-cast(discount as float))/100),2) as [total discount amount]\r\n",
                "from balanced_tree.sales s join balanced_tree.product_details d\r\n",
                "    on s.prod_id = d.product_id\r\n",
                "group by d.segment_name;"
            ],
            "metadata": {
                "language": "sql",
                "azdata_cell_guid": "257c2fb3-b279-4024-9874-19858f99a818"
            },
            "outputs": [
                {
                    "output_type": "display_data",
                    "data": {
                        "text/html": "(4 rows affected)"
                    },
                    "metadata": {}
                },
                {
                    "output_type": "display_data",
                    "data": {
                        "text/html": "Total execution time: 00:00:00.033"
                    },
                    "metadata": {}
                },
                {
                    "output_type": "execute_result",
                    "execution_count": 13,
                    "data": {
                        "application/vnd.dataresource+json": {
                            "schema": {
                                "fields": [
                                    {
                                        "name": "segment_name"
                                    },
                                    {
                                        "name": "total quantity"
                                    },
                                    {
                                        "name": "total revenue"
                                    },
                                    {
                                        "name": "total discount amount"
                                    }
                                ]
                            },
                            "data": [
                                {
                                    "segment_name": "Jacket",
                                    "total quantity": "11370",
                                    "total revenue": "322373.88",
                                    "total discount amount": "44207.12"
                                },
                                {
                                    "segment_name": "Jeans",
                                    "total quantity": "11316",
                                    "total revenue": "182527.36",
                                    "total discount amount": "25255.64"
                                },
                                {
                                    "segment_name": "Shirt",
                                    "total quantity": "11250",
                                    "total revenue": "356092.92",
                                    "total discount amount": "49502.08"
                                },
                                {
                                    "segment_name": "Socks",
                                    "total quantity": "11190",
                                    "total revenue": "270356.3",
                                    "total discount amount": "36866.7"
                                }
                            ]
                        },
                        "text/html": "<table><tr><th>segment_name</th><th>total quantity</th><th>total revenue</th><th>total discount amount</th></tr><tr><td>Jacket</td><td>11370</td><td>322373.88</td><td>44207.12</td></tr><tr><td>Jeans</td><td>11316</td><td>182527.36</td><td>25255.64</td></tr><tr><td>Shirt</td><td>11250</td><td>356092.92</td><td>49502.08</td></tr><tr><td>Socks</td><td>11190</td><td>270356.3</td><td>36866.7</td></tr></table>"
                    },
                    "metadata": {}
                }
            ],
            "execution_count": 13
        },
        {
            "cell_type": "markdown",
            "source": [
                "<span style=\"font-size:14px;\"><b><i>3. What is the top selling product for each segment?</i></b></span>"
            ],
            "metadata": {
                "language": "sql",
                "azdata_cell_guid": "b93728b3-19a9-4274-a129-2e8c75422895"
            },
            "attachments": {}
        },
        {
            "cell_type": "code",
            "source": [
                "with cte0 as (\r\n",
                "    select \r\n",
                "        d.segment_name,\r\n",
                "        d.product_name,\r\n",
                "        round(sum(s.qty*s.price*(100-cast(discount as float))/100),2) as revenue\r\n",
                "    from balanced_tree.sales s join balanced_tree.product_details d \r\n",
                "        on s.prod_id = d.product_id\r\n",
                "    group by d.segment_name , d.product_name\r\n",
                "), cte1 as (\r\n",
                "    select \r\n",
                "        segment_name,\r\n",
                "        product_name,\r\n",
                "        revenue,\r\n",
                "        dense_rank() over (partition by segment_name order by revenue desc) as rank\r\n",
                "    from cte0\r\n",
                ")\r\n",
                "select\r\n",
                "    segment_name,\r\n",
                "    product_name,\r\n",
                "    revenue\r\n",
                "from cte1\r\n",
                "where rank = 1"
            ],
            "metadata": {
                "language": "sql",
                "azdata_cell_guid": "7b91d26d-5f71-40c7-9270-6dc3317267fe"
            },
            "outputs": [
                {
                    "output_type": "display_data",
                    "data": {
                        "text/html": "(4 rows affected)"
                    },
                    "metadata": {}
                },
                {
                    "output_type": "display_data",
                    "data": {
                        "text/html": "Total execution time: 00:00:00.043"
                    },
                    "metadata": {}
                },
                {
                    "output_type": "execute_result",
                    "execution_count": 14,
                    "data": {
                        "application/vnd.dataresource+json": {
                            "schema": {
                                "fields": [
                                    {
                                        "name": "segment_name"
                                    },
                                    {
                                        "name": "product_name"
                                    },
                                    {
                                        "name": "revenue"
                                    }
                                ]
                            },
                            "data": [
                                {
                                    "segment_name": "Jacket",
                                    "product_name": "Grey Fashion Jacket - Womens",
                                    "revenue": "183787.38"
                                },
                                {
                                    "segment_name": "Jeans",
                                    "product_name": "Black Straight Jeans - Womens",
                                    "revenue": "106157.76"
                                },
                                {
                                    "segment_name": "Shirt",
                                    "product_name": "Blue Polo Shirt - Mens",
                                    "revenue": "190674.12"
                                },
                                {
                                    "segment_name": "Socks",
                                    "product_name": "Navy Solid Socks - Mens",
                                    "revenue": "119487.6"
                                }
                            ]
                        },
                        "text/html": "<table><tr><th>segment_name</th><th>product_name</th><th>revenue</th></tr><tr><td>Jacket</td><td>Grey Fashion Jacket - Womens</td><td>183787.38</td></tr><tr><td>Jeans</td><td>Black Straight Jeans - Womens</td><td>106157.76</td></tr><tr><td>Shirt</td><td>Blue Polo Shirt - Mens</td><td>190674.12</td></tr><tr><td>Socks</td><td>Navy Solid Socks - Mens</td><td>119487.6</td></tr></table>"
                    },
                    "metadata": {}
                }
            ],
            "execution_count": 14
        },
        {
            "cell_type": "markdown",
            "source": [
                "<span style=\"font-size:14px;\"><b><i>4. What is the total quantity, revenue and discount for each category?</i></b></span>"
            ],
            "metadata": {
                "language": "sql",
                "azdata_cell_guid": "38351f28-31c2-4fbd-82f8-cd72f38770c3"
            },
            "attachments": {}
        },
        {
            "cell_type": "code",
            "source": [
                "select \r\n",
                "    d.category_name,\r\n",
                "    sum(s.qty) as [total quantity],\r\n",
                "    round(sum(s.qty*s.price*(100-cast(discount as float))/100),2) as [total revenue],\r\n",
                "    round(sum(s.qty*s.price) - sum(s.qty*s.price*(100-cast(discount as float))/100),2) as [total discount amount]\r\n",
                "from balanced_tree.sales s join balanced_tree.product_details d\r\n",
                "    on s.prod_id = d.product_id\r\n",
                "group by d.category_name;"
            ],
            "metadata": {
                "language": "sql",
                "azdata_cell_guid": "71d7612d-5f64-4ffb-bfd3-e5441c6a1e9f"
            },
            "outputs": [
                {
                    "output_type": "display_data",
                    "data": {
                        "text/html": "(2 rows affected)"
                    },
                    "metadata": {}
                },
                {
                    "output_type": "display_data",
                    "data": {
                        "text/html": "Total execution time: 00:00:00.025"
                    },
                    "metadata": {}
                },
                {
                    "output_type": "execute_result",
                    "execution_count": 15,
                    "data": {
                        "application/vnd.dataresource+json": {
                            "schema": {
                                "fields": [
                                    {
                                        "name": "category_name"
                                    },
                                    {
                                        "name": "total quantity"
                                    },
                                    {
                                        "name": "total revenue"
                                    },
                                    {
                                        "name": "total discount amount"
                                    }
                                ]
                            },
                            "data": [
                                {
                                    "category_name": "Mens",
                                    "total quantity": "22440",
                                    "total revenue": "626449.22",
                                    "total discount amount": "86368.78"
                                },
                                {
                                    "category_name": "Womens",
                                    "total quantity": "22686",
                                    "total revenue": "504901.24",
                                    "total discount amount": "69462.76"
                                }
                            ]
                        },
                        "text/html": "<table><tr><th>category_name</th><th>total quantity</th><th>total revenue</th><th>total discount amount</th></tr><tr><td>Mens</td><td>22440</td><td>626449.22</td><td>86368.78</td></tr><tr><td>Womens</td><td>22686</td><td>504901.24</td><td>69462.76</td></tr></table>"
                    },
                    "metadata": {}
                }
            ],
            "execution_count": 15
        },
        {
            "cell_type": "markdown",
            "source": [
                "<span style=\"font-size:14px;\"><b><i>5. What is the top selling product for each category?</i></b></span>"
            ],
            "metadata": {
                "language": "sql",
                "azdata_cell_guid": "e23d8099-57a9-4f4e-8d5b-1535e1b530cf"
            },
            "attachments": {}
        },
        {
            "cell_type": "code",
            "source": [
                "with cte0 as (\r\n",
                "    select \r\n",
                "        d.category_name,\r\n",
                "        d.product_name,\r\n",
                "        round(sum(s.qty*s.price*(100-cast(discount as float))/100),2) as revenue\r\n",
                "    from balanced_tree.sales s join balanced_tree.product_details d \r\n",
                "        on s.prod_id = d.product_id\r\n",
                "    group by d.category_name, d.product_name\r\n",
                "), cte1 as (\r\n",
                "    select \r\n",
                "        category_name,\r\n",
                "        product_name,\r\n",
                "        revenue,\r\n",
                "        dense_rank() over (partition by category_name order by revenue desc) as rank\r\n",
                "    from cte0\r\n",
                ")\r\n",
                "select\r\n",
                "    category_name,\r\n",
                "    product_name,\r\n",
                "    revenue\r\n",
                "from cte1\r\n",
                "where rank = 1"
            ],
            "metadata": {
                "language": "sql",
                "azdata_cell_guid": "717d24c7-b29a-4e04-ab9f-a5f8f0e833cb"
            },
            "outputs": [
                {
                    "output_type": "display_data",
                    "data": {
                        "text/html": "(2 rows affected)"
                    },
                    "metadata": {}
                },
                {
                    "output_type": "display_data",
                    "data": {
                        "text/html": "Total execution time: 00:00:00.026"
                    },
                    "metadata": {}
                },
                {
                    "output_type": "execute_result",
                    "execution_count": 16,
                    "data": {
                        "application/vnd.dataresource+json": {
                            "schema": {
                                "fields": [
                                    {
                                        "name": "category_name"
                                    },
                                    {
                                        "name": "product_name"
                                    },
                                    {
                                        "name": "revenue"
                                    }
                                ]
                            },
                            "data": [
                                {
                                    "category_name": "Mens",
                                    "product_name": "Blue Polo Shirt - Mens",
                                    "revenue": "190674.12"
                                },
                                {
                                    "category_name": "Womens",
                                    "product_name": "Grey Fashion Jacket - Womens",
                                    "revenue": "183787.38"
                                }
                            ]
                        },
                        "text/html": "<table><tr><th>category_name</th><th>product_name</th><th>revenue</th></tr><tr><td>Mens</td><td>Blue Polo Shirt - Mens</td><td>190674.12</td></tr><tr><td>Womens</td><td>Grey Fashion Jacket - Womens</td><td>183787.38</td></tr></table>"
                    },
                    "metadata": {}
                }
            ],
            "execution_count": 16
        },
        {
            "cell_type": "markdown",
            "source": [
                "<span style=\"font-size:14px;\"><b><i>6. What is the percentage split of revenue by product for each segment?</i></b></span>"
            ],
            "metadata": {
                "language": "sql",
                "azdata_cell_guid": "545e6ba5-0c2a-48a6-be79-3bccbee55544"
            },
            "attachments": {}
        },
        {
            "cell_type": "code",
            "source": [
                "with cte0 as (\r\n",
                "    select \r\n",
                "        d.segment_name,\r\n",
                "        d.product_name,\r\n",
                "        cast(round(sum(s.qty*s.price*(100-cast(discount as float))/100),2) as float) as revenue\r\n",
                "    from balanced_tree.sales s join balanced_tree.product_details d\r\n",
                "        on s.prod_id = d.product_id\r\n",
                "    group by d.segment_name , d.product_name\r\n",
                "), cte1 as (\r\n",
                "    select \r\n",
                "        segment_name,\r\n",
                "        cast(sum(revenue) as float) as [total revenue by segment name]\r\n",
                "    from cte0\r\n",
                "    group by segment_name\r\n",
                ")\r\n",
                "\r\n",
                "select\r\n",
                "    c1.segment_name,\r\n",
                "    c0.product_name,\r\n",
                "    round(c0.revenue / c1.[total revenue by segment name],2) as [percentage]\r\n",
                "from cte0 c0 join cte1 c1\r\n",
                "    on c0.segment_name = c1.segment_name\r\n",
                "order by c0.segment_name , round(c0.revenue / c1.[total revenue by segment name],2) desc"
            ],
            "metadata": {
                "language": "sql",
                "azdata_cell_guid": "d0ad7fa9-2d4d-420d-a159-5a546edd066f"
            },
            "outputs": [
                {
                    "output_type": "display_data",
                    "data": {
                        "text/html": "(12 rows affected)"
                    },
                    "metadata": {}
                },
                {
                    "output_type": "display_data",
                    "data": {
                        "text/html": "Total execution time: 00:00:00.036"
                    },
                    "metadata": {}
                },
                {
                    "output_type": "execute_result",
                    "execution_count": 17,
                    "data": {
                        "application/vnd.dataresource+json": {
                            "schema": {
                                "fields": [
                                    {
                                        "name": "segment_name"
                                    },
                                    {
                                        "name": "product_name"
                                    },
                                    {
                                        "name": "percentage"
                                    }
                                ]
                            },
                            "data": [
                                {
                                    "segment_name": "Jacket",
                                    "product_name": "Grey Fashion Jacket - Womens",
                                    "percentage": "0.57"
                                },
                                {
                                    "segment_name": "Jacket",
                                    "product_name": "Khaki Suit Jacket - Womens",
                                    "percentage": "0.24"
                                },
                                {
                                    "segment_name": "Jacket",
                                    "product_name": "Indigo Rain Jacket - Womens",
                                    "percentage": "0.19"
                                },
                                {
                                    "segment_name": "Jeans",
                                    "product_name": "Black Straight Jeans - Womens",
                                    "percentage": "0.58"
                                },
                                {
                                    "segment_name": "Jeans",
                                    "product_name": "Navy Oversized Jeans - Womens",
                                    "percentage": "0.24"
                                },
                                {
                                    "segment_name": "Jeans",
                                    "product_name": "Cream Relaxed Jeans - Womens",
                                    "percentage": "0.18"
                                },
                                {
                                    "segment_name": "Shirt",
                                    "product_name": "Blue Polo Shirt - Mens",
                                    "percentage": "0.54"
                                },
                                {
                                    "segment_name": "Shirt",
                                    "product_name": "White Tee Shirt - Mens",
                                    "percentage": "0.37"
                                },
                                {
                                    "segment_name": "Shirt",
                                    "product_name": "Teal Button Up Shirt - Mens",
                                    "percentage": "0.09"
                                },
                                {
                                    "segment_name": "Socks",
                                    "product_name": "Navy Solid Socks - Mens",
                                    "percentage": "0.44"
                                },
                                {
                                    "segment_name": "Socks",
                                    "product_name": "Pink Fluro Polkadot Socks - Mens",
                                    "percentage": "0.36"
                                },
                                {
                                    "segment_name": "Socks",
                                    "product_name": "White Striped Socks - Mens",
                                    "percentage": "0.2"
                                }
                            ]
                        },
                        "text/html": "<table><tr><th>segment_name</th><th>product_name</th><th>percentage</th></tr><tr><td>Jacket</td><td>Grey Fashion Jacket - Womens</td><td>0.57</td></tr><tr><td>Jacket</td><td>Khaki Suit Jacket - Womens</td><td>0.24</td></tr><tr><td>Jacket</td><td>Indigo Rain Jacket - Womens</td><td>0.19</td></tr><tr><td>Jeans</td><td>Black Straight Jeans - Womens</td><td>0.58</td></tr><tr><td>Jeans</td><td>Navy Oversized Jeans - Womens</td><td>0.24</td></tr><tr><td>Jeans</td><td>Cream Relaxed Jeans - Womens</td><td>0.18</td></tr><tr><td>Shirt</td><td>Blue Polo Shirt - Mens</td><td>0.54</td></tr><tr><td>Shirt</td><td>White Tee Shirt - Mens</td><td>0.37</td></tr><tr><td>Shirt</td><td>Teal Button Up Shirt - Mens</td><td>0.09</td></tr><tr><td>Socks</td><td>Navy Solid Socks - Mens</td><td>0.44</td></tr><tr><td>Socks</td><td>Pink Fluro Polkadot Socks - Mens</td><td>0.36</td></tr><tr><td>Socks</td><td>White Striped Socks - Mens</td><td>0.2</td></tr></table>"
                    },
                    "metadata": {}
                }
            ],
            "execution_count": 17
        },
        {
            "cell_type": "markdown",
            "source": [
                "<span style=\"font-size:14px;\"><b><i>7. What is the percentage split of revenue by segment for each category?</i></b></span>"
            ],
            "metadata": {
                "language": "sql",
                "azdata_cell_guid": "811b0f6e-1e00-4a74-8816-3cfa4d680d45"
            },
            "attachments": {}
        },
        {
            "cell_type": "code",
            "source": [
                "with cte0 as (\r\n",
                "    select \r\n",
                "        d.category_name,\r\n",
                "        d.segment_name,\r\n",
                "        cast(round(sum(s.qty*s.price*(100-cast(discount as float))/100),2) as float) as revenue\r\n",
                "    from balanced_tree.sales s join balanced_tree.product_details d\r\n",
                "        on s.prod_id = d.product_id\r\n",
                "    group by d.category_name , d.segment_name\r\n",
                "), cte1 as (\r\n",
                "    select \r\n",
                "        category_name,\r\n",
                "        cast(sum(revenue) as float) as [total revenue by category]\r\n",
                "    from cte0\r\n",
                "    group by category_name\r\n",
                ")\r\n",
                "\r\n",
                "select\r\n",
                "    c0.category_name,\r\n",
                "    c0.segment_name,\r\n",
                "    round(c0.revenue / c1.[total revenue by category],2) as [percentage]\r\n",
                "from cte0 c0 join cte1 c1 \r\n",
                "    on c0.category_name = c1.category_name\r\n",
                "order by c0.category_name, round(c0.revenue / c1.[total revenue by category],2) desc;"
            ],
            "metadata": {
                "language": "sql",
                "azdata_cell_guid": "69b8d781-729a-4835-9a2e-5f0bd45d10a7"
            },
            "outputs": [
                {
                    "output_type": "display_data",
                    "data": {
                        "text/html": "(4 rows affected)"
                    },
                    "metadata": {}
                },
                {
                    "output_type": "display_data",
                    "data": {
                        "text/html": "Total execution time: 00:00:00.032"
                    },
                    "metadata": {}
                },
                {
                    "output_type": "execute_result",
                    "execution_count": 18,
                    "data": {
                        "application/vnd.dataresource+json": {
                            "schema": {
                                "fields": [
                                    {
                                        "name": "category_name"
                                    },
                                    {
                                        "name": "segment_name"
                                    },
                                    {
                                        "name": "percentage"
                                    }
                                ]
                            },
                            "data": [
                                {
                                    "category_name": "Mens",
                                    "segment_name": "Shirt",
                                    "percentage": "0.57"
                                },
                                {
                                    "category_name": "Mens",
                                    "segment_name": "Socks",
                                    "percentage": "0.43"
                                },
                                {
                                    "category_name": "Womens",
                                    "segment_name": "Jacket",
                                    "percentage": "0.64"
                                },
                                {
                                    "category_name": "Womens",
                                    "segment_name": "Jeans",
                                    "percentage": "0.36"
                                }
                            ]
                        },
                        "text/html": "<table><tr><th>category_name</th><th>segment_name</th><th>percentage</th></tr><tr><td>Mens</td><td>Shirt</td><td>0.57</td></tr><tr><td>Mens</td><td>Socks</td><td>0.43</td></tr><tr><td>Womens</td><td>Jacket</td><td>0.64</td></tr><tr><td>Womens</td><td>Jeans</td><td>0.36</td></tr></table>"
                    },
                    "metadata": {}
                }
            ],
            "execution_count": 18
        },
        {
            "cell_type": "markdown",
            "source": [
                "<span style=\"font-size:14px;\"><b><i>8. What is the percentage split of total revenue by category?</i></b></span>"
            ],
            "metadata": {
                "language": "sql",
                "azdata_cell_guid": "926154a8-fa4d-4f22-b4d6-0b75441b5ea9"
            },
            "attachments": {}
        },
        {
            "cell_type": "code",
            "source": [
                "declare @total_revenue float \r\n",
                "select \r\n",
                "    @total_revenue = sum(qty*price*(100-cast(discount as float))/100)\r\n",
                "from balanced_tree.sales;\r\n",
                "\r\n",
                "select\r\n",
                "    d.category_name,\r\n",
                "    round(sum(s.qty*s.price*(100-cast(discount as float))/100) / @total_revenue,2) as revenue\r\n",
                "from balanced_tree.sales s join balanced_tree.product_details d \r\n",
                "    on s.prod_id = d.product_id\r\n",
                "group by d.category_name;"
            ],
            "metadata": {
                "language": "sql",
                "azdata_cell_guid": "34bfcf61-50e1-472d-9888-9b0a1be0f63a"
            },
            "outputs": [
                {
                    "output_type": "display_data",
                    "data": {
                        "text/html": "(2 rows affected)"
                    },
                    "metadata": {}
                },
                {
                    "output_type": "display_data",
                    "data": {
                        "text/html": "Total execution time: 00:00:00.018"
                    },
                    "metadata": {}
                },
                {
                    "output_type": "execute_result",
                    "execution_count": 19,
                    "data": {
                        "application/vnd.dataresource+json": {
                            "schema": {
                                "fields": [
                                    {
                                        "name": "category_name"
                                    },
                                    {
                                        "name": "revenue"
                                    }
                                ]
                            },
                            "data": [
                                {
                                    "category_name": "Mens",
                                    "revenue": "0.55"
                                },
                                {
                                    "category_name": "Womens",
                                    "revenue": "0.45"
                                }
                            ]
                        },
                        "text/html": "<table><tr><th>category_name</th><th>revenue</th></tr><tr><td>Mens</td><td>0.55</td></tr><tr><td>Womens</td><td>0.45</td></tr></table>"
                    },
                    "metadata": {}
                }
            ],
            "execution_count": 19
        },
        {
            "cell_type": "markdown",
            "source": [
                "**_<span style=\"font-size:14px;\">9. What is the total transaction “penetration” for each product? (</span>hint: penetration = number of transactions where at least 1 quantity of a product was purchased divided by total number of transactions)_**"
            ],
            "metadata": {
                "language": "sql",
                "azdata_cell_guid": "5e318b26-5e7b-45b9-ba65-20da776ac22a"
            },
            "attachments": {}
        },
        {
            "cell_type": "code",
            "source": [
                "declare @total_transaction float\r\n",
                "select \r\n",
                "\t@total_transaction = count(distinct(txn_id))\r\n",
                "from balanced_tree.sales\r\n",
                ";\r\n",
                "with cte0 as (\r\n",
                "\tselect \r\n",
                "\t\ts1.prod_id,\r\n",
                "\t\tcast(count(distinct(s1.txn_id)) as float) as [number of transactions]\r\n",
                "\tfrom balanced_tree.sales s1 \r\n",
                "\twhere exists (\r\n",
                "\t\tselect \r\n",
                "\t\t\t1\r\n",
                "\t\tfrom balanced_tree.sales s2\r\n",
                "\t\twhere s1.txn_id = s2.txn_id and s1.prod_id = s2.prod_id and s1.qty >= 1\r\n",
                "\t\t)\r\n",
                "\tgroup by s1.prod_id\r\n",
                ")\r\n",
                "\r\n",
                "select \r\n",
                "\td.product_name,\r\n",
                "\tround([number of transactions] / @total_transaction,3) as [panetration of transaction for each product]\r\n",
                "from cte0 c0 join balanced_tree.product_details d\r\n",
                "\ton c0.prod_id = d.product_id"
            ],
            "metadata": {
                "language": "sql",
                "azdata_cell_guid": "2839c467-d5ae-4913-8224-0219707e0ff9",
                "tags": []
            },
            "outputs": [
                {
                    "output_type": "display_data",
                    "data": {
                        "text/html": "(12 rows affected)"
                    },
                    "metadata": {}
                },
                {
                    "output_type": "display_data",
                    "data": {
                        "text/html": "Total execution time: 00:00:00.073"
                    },
                    "metadata": {}
                },
                {
                    "output_type": "execute_result",
                    "execution_count": 20,
                    "data": {
                        "application/vnd.dataresource+json": {
                            "schema": {
                                "fields": [
                                    {
                                        "name": "product_name"
                                    },
                                    {
                                        "name": "panetration of transaction for each product"
                                    }
                                ]
                            },
                            "data": [
                                {
                                    "product_name": "Navy Oversized Jeans - Womens",
                                    "panetration of transaction for each product": "0.509"
                                },
                                {
                                    "product_name": "Black Straight Jeans - Womens",
                                    "panetration of transaction for each product": "0.498"
                                },
                                {
                                    "product_name": "Cream Relaxed Jeans - Womens",
                                    "panetration of transaction for each product": "0.497"
                                },
                                {
                                    "product_name": "Khaki Suit Jacket - Womens",
                                    "panetration of transaction for each product": "0.499"
                                },
                                {
                                    "product_name": "Indigo Rain Jacket - Womens",
                                    "panetration of transaction for each product": "0.5"
                                },
                                {
                                    "product_name": "Grey Fashion Jacket - Womens",
                                    "panetration of transaction for each product": "0.51"
                                },
                                {
                                    "product_name": "White Tee Shirt - Mens",
                                    "panetration of transaction for each product": "0.507"
                                },
                                {
                                    "product_name": "Teal Button Up Shirt - Mens",
                                    "panetration of transaction for each product": "0.497"
                                },
                                {
                                    "product_name": "Blue Polo Shirt - Mens",
                                    "panetration of transaction for each product": "0.507"
                                },
                                {
                                    "product_name": "Navy Solid Socks - Mens",
                                    "panetration of transaction for each product": "0.512"
                                },
                                {
                                    "product_name": "White Striped Socks - Mens",
                                    "panetration of transaction for each product": "0.497"
                                },
                                {
                                    "product_name": "Pink Fluro Polkadot Socks - Mens",
                                    "panetration of transaction for each product": "0.503"
                                }
                            ]
                        },
                        "text/html": "<table><tr><th>product_name</th><th>panetration of transaction for each product</th></tr><tr><td>Navy Oversized Jeans - Womens</td><td>0.509</td></tr><tr><td>Black Straight Jeans - Womens</td><td>0.498</td></tr><tr><td>Cream Relaxed Jeans - Womens</td><td>0.497</td></tr><tr><td>Khaki Suit Jacket - Womens</td><td>0.499</td></tr><tr><td>Indigo Rain Jacket - Womens</td><td>0.5</td></tr><tr><td>Grey Fashion Jacket - Womens</td><td>0.51</td></tr><tr><td>White Tee Shirt - Mens</td><td>0.507</td></tr><tr><td>Teal Button Up Shirt - Mens</td><td>0.497</td></tr><tr><td>Blue Polo Shirt - Mens</td><td>0.507</td></tr><tr><td>Navy Solid Socks - Mens</td><td>0.512</td></tr><tr><td>White Striped Socks - Mens</td><td>0.497</td></tr><tr><td>Pink Fluro Polkadot Socks - Mens</td><td>0.503</td></tr></table>"
                    },
                    "metadata": {}
                }
            ],
            "execution_count": 20
        },
        {
            "cell_type": "markdown",
            "source": [
                "<span style=\"font-size:14px;\"><b><i>10. What is the most common combination of at least 1 quantity of any 3 products in a 1 single transaction?</i></b></span>"
            ],
            "metadata": {
                "language": "sql",
                "azdata_cell_guid": "3ec1c2c1-6886-474d-a650-7c6a0be8b480"
            },
            "attachments": {}
        },
        {
            "cell_type": "code",
            "source": [
                "---  với 12 sản phẩm, tối đa có 220 sự kết hợp từ 3 phẩm khác nhau\r\n",
                "select top 1\r\n",
                "\ts.prod_id as [product1], \r\n",
                "\tt1.prod_id as [product2], \r\n",
                "\tt2.prod_id as [product3], \r\n",
                "\tcount(*) as [combination count]    \r\n",
                "from (balanced_tree.sales s join balanced_tree.sales t1 \r\n",
                "\ton t1.txn_id = s.txn_id and s.prod_id < t1.prod_id )\r\n",
                "\t\tjoin balanced_tree.sales t2 on t2.txn_id = s.txn_id and t1.prod_id < t2.prod_id\r\n",
                "group by s.prod_id, t1.prod_id, t2.prod_id\r\n",
                "order by count(*) desc"
            ],
            "metadata": {
                "language": "sql",
                "azdata_cell_guid": "1d431ce2-55b7-4d10-8783-60f5d6510c65"
            },
            "outputs": [
                {
                    "output_type": "display_data",
                    "data": {
                        "text/html": "(1 row affected)"
                    },
                    "metadata": {}
                },
                {
                    "output_type": "display_data",
                    "data": {
                        "text/html": "Total execution time: 00:00:00.143"
                    },
                    "metadata": {}
                },
                {
                    "output_type": "execute_result",
                    "execution_count": 21,
                    "data": {
                        "application/vnd.dataresource+json": {
                            "schema": {
                                "fields": [
                                    {
                                        "name": "product1"
                                    },
                                    {
                                        "name": "product2"
                                    },
                                    {
                                        "name": "product3"
                                    },
                                    {
                                        "name": "combination count"
                                    }
                                ]
                            },
                            "data": [
                                {
                                    "product1": "5d267b",
                                    "product2": "9ec847",
                                    "product3": "c8d436",
                                    "combination count": "352"
                                }
                            ]
                        },
                        "text/html": "<table><tr><th>product1</th><th>product2</th><th>product3</th><th>combination count</th></tr><tr><td>5d267b</td><td>9ec847</td><td>c8d436</td><td>352</td></tr></table>"
                    },
                    "metadata": {}
                }
            ],
            "execution_count": 21
        }
    ]
}