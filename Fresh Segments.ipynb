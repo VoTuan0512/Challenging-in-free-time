{
    "metadata": {
        "kernelspec": {
            "name": "SQL",
            "display_name": "SQL",
            "language": "sql"
        },
        "language_info": {
            "name": "sql",
            "version": ""
        }
    },
    "nbformat_minor": 2,
    "nbformat": 4,
    "cells": [
        {
            "cell_type": "markdown",
            "source": [
                "1. What do you think we should do with these null values in the `fresh_segments.interest_metrics`"
            ],
            "metadata": {
                "language": "sql",
                "azdata_cell_guid": "f499987f-d87d-41fd-85d7-1b481ba77efb"
            },
            "attachments": {}
        },
        {
            "cell_type": "code",
            "source": [
                "UPDATE fresh_segments.interest_metrics\r\n",
                "SET\r\n",
                "    month_year = COALESCE(month_year,'NO RECORD'),\r\n",
                "    interest_id = COALESCE(interest_id,'NO RECORD'),\r\n",
                "    _month = COALESCE(_month,0),\r\n",
                "    _year = COALESCE(_year,0)\r\n",
                ""
            ],
            "metadata": {
                "language": "sql",
                "azdata_cell_guid": "5ee4843c-0732-4297-8284-5240e795cd43",
                "tags": []
            },
            "outputs": [
                {
                    "output_type": "display_data",
                    "data": {
                        "text/html": "(13940 rows affected)"
                    },
                    "metadata": {}
                },
                {
                    "output_type": "display_data",
                    "data": {
                        "text/html": "Total execution time: 00:00:00.396"
                    },
                    "metadata": {}
                }
            ],
            "execution_count": 9
        },
        {
            "cell_type": "markdown",
            "source": [
                "2. What is count of records in the `fresh_segments.interest_metrics` for each `month_year` value sorted in chronological order (earliest to latest) with the null values appearing first?"
            ],
            "metadata": {
                "azdata_cell_guid": "08ab4c77-15b0-4576-b4d1-37db7882dcc4"
            },
            "attachments": {}
        },
        {
            "cell_type": "code",
            "source": [
                "SELECT \r\n",
                "    CAST(CAST(month_year + '-01' AS nvarchar(10)) AS date) AS ConvertedDate , \r\n",
                "    COUNT(*) AS number_of_records \r\n",
                "FROM fresh_segments.interest_metrics\r\n",
                "WHERE month_year != 'NO RECORD'\r\n",
                "GROUP BY month_year\r\n",
                "ORDER BY month_year\r\n",
                ""
            ],
            "metadata": {
                "azdata_cell_guid": "c6f904f9-0bde-4b3c-94aa-6b1a952c4b21",
                "language": "sql",
                "tags": []
            },
            "outputs": [
                {
                    "output_type": "display_data",
                    "data": {
                        "text/html": "(14 rows affected)"
                    },
                    "metadata": {}
                },
                {
                    "output_type": "display_data",
                    "data": {
                        "text/html": "Total execution time: 00:00:00.063"
                    },
                    "metadata": {}
                },
                {
                    "output_type": "execute_result",
                    "execution_count": 14,
                    "data": {
                        "application/vnd.dataresource+json": {
                            "schema": {
                                "fields": [
                                    {
                                        "name": "ConvertedDate"
                                    },
                                    {
                                        "name": "number_of_records"
                                    }
                                ]
                            },
                            "data": [
                                {
                                    "ConvertedDate": "2018-07-01",
                                    "number_of_records": "729"
                                },
                                {
                                    "ConvertedDate": "2018-08-01",
                                    "number_of_records": "767"
                                },
                                {
                                    "ConvertedDate": "2018-09-01",
                                    "number_of_records": "780"
                                },
                                {
                                    "ConvertedDate": "2018-10-01",
                                    "number_of_records": "857"
                                },
                                {
                                    "ConvertedDate": "2018-11-01",
                                    "number_of_records": "928"
                                },
                                {
                                    "ConvertedDate": "2018-12-01",
                                    "number_of_records": "995"
                                },
                                {
                                    "ConvertedDate": "2019-01-01",
                                    "number_of_records": "973"
                                },
                                {
                                    "ConvertedDate": "2019-02-01",
                                    "number_of_records": "1121"
                                },
                                {
                                    "ConvertedDate": "2019-03-01",
                                    "number_of_records": "1136"
                                },
                                {
                                    "ConvertedDate": "2019-04-01",
                                    "number_of_records": "1099"
                                },
                                {
                                    "ConvertedDate": "2019-05-01",
                                    "number_of_records": "524"
                                },
                                {
                                    "ConvertedDate": "2019-06-01",
                                    "number_of_records": "824"
                                },
                                {
                                    "ConvertedDate": "2019-07-01",
                                    "number_of_records": "864"
                                },
                                {
                                    "ConvertedDate": "2019-08-01",
                                    "number_of_records": "1149"
                                }
                            ]
                        },
                        "text/html": "<table><tr><th>ConvertedDate</th><th>number_of_records</th></tr><tr><td>2018-07-01</td><td>729</td></tr><tr><td>2018-08-01</td><td>767</td></tr><tr><td>2018-09-01</td><td>780</td></tr><tr><td>2018-10-01</td><td>857</td></tr><tr><td>2018-11-01</td><td>928</td></tr><tr><td>2018-12-01</td><td>995</td></tr><tr><td>2019-01-01</td><td>973</td></tr><tr><td>2019-02-01</td><td>1121</td></tr><tr><td>2019-03-01</td><td>1136</td></tr><tr><td>2019-04-01</td><td>1099</td></tr><tr><td>2019-05-01</td><td>524</td></tr><tr><td>2019-06-01</td><td>824</td></tr><tr><td>2019-07-01</td><td>864</td></tr><tr><td>2019-08-01</td><td>1149</td></tr></table>"
                    },
                    "metadata": {}
                }
            ],
            "execution_count": 14
        },
        {
            "cell_type": "markdown",
            "source": [
                "3. How many `interest_id` values exist in the `fresh_segments.interest_metrics` table but not in the `fresh_segments.interest_map` table? What about the other way around?"
            ],
            "metadata": {
                "language": "sql",
                "azdata_cell_guid": "55cce425-9b1c-451d-b23d-7809b3e1bf29"
            },
            "attachments": {}
        },
        {
            "cell_type": "code",
            "source": [
                "SELECT COUNT(*) as [interest_id values exist]\r\n",
                "FROM\r\n",
                "    (SELECT \r\n",
                "        DISTINCT(interest_id)\r\n",
                "    FROM fresh_segments.interest_metrics\r\n",
                "    WHERE interest_id != 'NO RECORD'\r\n",
                "    EXCEPT\r\n",
                "    SELECT\r\n",
                "        DISTINCT(id)\r\n",
                "    FROM fresh_segments.interest_map) AS RESULT\r\n",
                "\r\n",
                "---> tìm duy nhất được 1 interest_id\r\n",
                "\r\n",
                "-- what about the other way around?\r\n",
                "SELECT COUNT(*) as [interest_id values exist in contrast]\r\n",
                "FROM \r\n",
                "    (SELECT\r\n",
                "        DISTINCT(id)\r\n",
                "    FROM fresh_segments.interest_map\r\n",
                "    EXCEPT\r\n",
                "    SELECT \r\n",
                "        DISTINCT(interest_id)\r\n",
                "    FROM fresh_segments.interest_metrics\r\n",
                "    WHERE interest_id != 'NO RECORD') AS RESULT\r\n",
                "\r\n",
                "---> tìm được 7 ids ngược lại"
            ],
            "metadata": {
                "language": "sql",
                "azdata_cell_guid": "0eea27f3-1636-4c53-8042-61c17b66c063",
                "tags": []
            },
            "outputs": [
                {
                    "output_type": "display_data",
                    "data": {
                        "text/html": "(1 row affected)"
                    },
                    "metadata": {}
                },
                {
                    "output_type": "display_data",
                    "data": {
                        "text/html": "(1 row affected)"
                    },
                    "metadata": {}
                },
                {
                    "output_type": "display_data",
                    "data": {
                        "text/html": "Total execution time: 00:00:00.143"
                    },
                    "metadata": {}
                },
                {
                    "output_type": "execute_result",
                    "execution_count": 10,
                    "data": {
                        "application/vnd.dataresource+json": {
                            "schema": {
                                "fields": [
                                    {
                                        "name": "interest_id values exist"
                                    }
                                ]
                            },
                            "data": [
                                {
                                    "interest_id values exist": "1"
                                }
                            ]
                        },
                        "text/html": "<table><tr><th>interest_id values exist</th></tr><tr><td>1</td></tr></table>"
                    },
                    "metadata": {}
                },
                {
                    "output_type": "execute_result",
                    "execution_count": 10,
                    "data": {
                        "application/vnd.dataresource+json": {
                            "schema": {
                                "fields": [
                                    {
                                        "name": "interest_id values exist in contrast"
                                    }
                                ]
                            },
                            "data": [
                                {
                                    "interest_id values exist in contrast": "7"
                                }
                            ]
                        },
                        "text/html": "<table><tr><th>interest_id values exist in contrast</th></tr><tr><td>7</td></tr></table>"
                    },
                    "metadata": {}
                }
            ],
            "execution_count": 10
        },
        {
            "cell_type": "markdown",
            "source": [
                "4. Summarise the `id` values in the `fresh_segments.interest_map` by its total record count in this table"
            ],
            "metadata": {
                "language": "sql",
                "azdata_cell_guid": "f6dd3e30-7eba-44c4-9dd1-c318a40eaa9a"
            },
            "attachments": {}
        },
        {
            "cell_type": "code",
            "source": [
                "SELECT COUNT(ID) as TOTAL_RECORD\r\n",
                "FROM fresh_segments.interest_map;"
            ],
            "metadata": {
                "language": "sql",
                "azdata_cell_guid": "0c2acd86-4947-43fd-acff-492714c43c4b",
                "tags": []
            },
            "outputs": [
                {
                    "output_type": "display_data",
                    "data": {
                        "text/html": "(1 row affected)"
                    },
                    "metadata": {}
                },
                {
                    "output_type": "display_data",
                    "data": {
                        "text/html": "Total execution time: 00:00:00.011"
                    },
                    "metadata": {}
                },
                {
                    "output_type": "execute_result",
                    "execution_count": 11,
                    "data": {
                        "application/vnd.dataresource+json": {
                            "schema": {
                                "fields": [
                                    {
                                        "name": "TOTAL_RECORD"
                                    }
                                ]
                            },
                            "data": [
                                {
                                    "TOTAL_RECORD": "1208"
                                }
                            ]
                        },
                        "text/html": "<table><tr><th>TOTAL_RECORD</th></tr><tr><td>1208</td></tr></table>"
                    },
                    "metadata": {}
                }
            ],
            "execution_count": 11
        },
        {
            "cell_type": "markdown",
            "source": [
                "5. What sort of table join should we perform for our analysis and why? Check your logic by checking the rows where `interest_id = 21246` in your joined output and include all columns from `fresh_segments.interest_metrics` and all columns from `fresh_segments.interest_map` except from the `id` column."
            ],
            "metadata": {
                "language": "sql",
                "azdata_cell_guid": "b3274f23-6c78-4536-afd0-a72a81199c11"
            },
            "attachments": {}
        },
        {
            "cell_type": "code",
            "source": [
                "\r\n",
                "SELECT TOP 10\r\n",
                "     CAST(CAST(A.month_year + '-01' AS nvarchar(10)) AS date) AS ConvertedDate , A.interest_id , B.interest_name , A.composition , A.index_value , A.ranking , A.percentile_ranking,\r\n",
                "        B.interest_summary , B.created_at , B.last_modified\r\n",
                "FROM fresh_segments.interest_metrics A JOIN fresh_segments.interest_map B\r\n",
                "    ON A.interest_id = B.id\r\n",
                "WHERE A.month_year != 'NO RECORD' OR A._month != 0 OR A._year != 0\r\n",
                "\r\n",
                "\r\n",
                "\r\n",
                "--- nên sort thứ tự theo 2 trường interest_name (hoặc interest_id) và month_year (cũ nhất - mới nhất).\r\n",
                "---- Theo interest_name (hoặc interest_id) chúng ta cần nhóm interest_name lại với nhau để dễ dàng quan sát những kết quả về metric của online ad mà khách hàng đạt được\r\n",
                "--- (về thời gian tương tác, khoảng thời gian từ lúc xây dựng 1 online ad cho đến khi đạt được những kết quả metric đầu tiên,... ).\r\n",
                "---- Kế tiếp là sort theo month_year là vì chúng ta có thể quan sát trung bình 1 online ad sẽ nhận được sự tương tác của khách hàng trong bao lâu, theo thứ tự earliest - latest\r\n",
                "--- là vì chúng ta sẽ quan sát được xu hướng tăng trưởng hay giảm sút trong kết quả các chỉ số"
            ],
            "metadata": {
                "language": "sql",
                "azdata_cell_guid": "c4e6a04e-742d-40ca-bfa1-5a7535a0e86f",
                "tags": []
            },
            "outputs": [
                {
                    "output_type": "display_data",
                    "data": {
                        "text/html": "(10 rows affected)"
                    },
                    "metadata": {}
                },
                {
                    "output_type": "display_data",
                    "data": {
                        "text/html": "Total execution time: 00:00:00.059"
                    },
                    "metadata": {}
                },
                {
                    "output_type": "execute_result",
                    "metadata": {},
                    "execution_count": 9,
                    "data": {
                        "application/vnd.dataresource+json": {
                            "schema": {
                                "fields": [
                                    {
                                        "name": "ConvertedDate"
                                    },
                                    {
                                        "name": "interest_id"
                                    },
                                    {
                                        "name": "interest_name"
                                    },
                                    {
                                        "name": "composition"
                                    },
                                    {
                                        "name": "index_value"
                                    },
                                    {
                                        "name": "ranking"
                                    },
                                    {
                                        "name": "percentile_ranking"
                                    },
                                    {
                                        "name": "interest_summary"
                                    },
                                    {
                                        "name": "created_at"
                                    },
                                    {
                                        "name": "last_modified"
                                    }
                                ]
                            },
                            "data": [
                                {
                                    "ConvertedDate": "2018-07-01",
                                    "interest_id": "32486",
                                    "interest_name": "Vacation Rental Accommodation Researchers",
                                    "composition": "11.89",
                                    "index_value": "6.19",
                                    "ranking": "1",
                                    "percentile_ranking": "99.86",
                                    "interest_summary": "People researching and booking rentals accommodations for vacations.",
                                    "created_at": "2018-06-29 12:55:03.000",
                                    "last_modified": "2018-06-29 12:55:03.000"
                                },
                                {
                                    "ConvertedDate": "2018-07-01",
                                    "interest_id": "6106",
                                    "interest_name": "Luxury Second Home Owners",
                                    "composition": "9.93",
                                    "index_value": "5.31",
                                    "ranking": "2",
                                    "percentile_ranking": "99.73",
                                    "interest_summary": "High income individuals with more than one home.",
                                    "created_at": "2017-03-27 16:59:29.000",
                                    "last_modified": "2018-05-23 11:30:12.000"
                                },
                                {
                                    "ConvertedDate": "2018-07-01",
                                    "interest_id": "18923",
                                    "interest_name": "Online Home Decor Shoppers",
                                    "composition": "10.85",
                                    "index_value": "5.29",
                                    "ranking": "3",
                                    "percentile_ranking": "99.59",
                                    "interest_summary": "Consumers shopping online for home decor available for delivery.",
                                    "created_at": "2018-04-19 18:25:02.000",
                                    "last_modified": "2018-04-19 18:25:02.000"
                                },
                                {
                                    "ConvertedDate": "2018-07-01",
                                    "interest_id": "6344",
                                    "interest_name": "Hair Care Shoppers",
                                    "composition": "10.32",
                                    "index_value": "5.1",
                                    "ranking": "4",
                                    "percentile_ranking": "99.45",
                                    "interest_summary": "Consumers researching trends and purchasing hair and beauty products.",
                                    "created_at": "2017-05-15 13:04:55.000",
                                    "last_modified": "2018-05-31 22:11:37.000"
                                },
                                {
                                    "ConvertedDate": "2018-07-01",
                                    "interest_id": "100",
                                    "interest_name": "Nutrition Conscious Eaters",
                                    "composition": "10.77",
                                    "index_value": "5.04",
                                    "ranking": "5",
                                    "percentile_ranking": "99.31",
                                    "interest_summary": "Consumer reading about healthy eating options.",
                                    "created_at": "2016-05-26 14:57:59.000",
                                    "last_modified": "2018-05-23 11:30:13.000"
                                },
                                {
                                    "ConvertedDate": "2018-07-01",
                                    "interest_id": "69",
                                    "interest_name": "Healthy Eaters",
                                    "composition": "10.82",
                                    "index_value": "5.03",
                                    "ranking": "6",
                                    "percentile_ranking": "99.18",
                                    "interest_summary": "People researching healthy eating options.",
                                    "created_at": "2016-05-26 14:57:59.000",
                                    "last_modified": "2018-05-23 11:30:12.000"
                                },
                                {
                                    "ConvertedDate": "2018-07-01",
                                    "interest_id": "79",
                                    "interest_name": "Luxury Travel Researchers",
                                    "composition": "11.21",
                                    "index_value": "4.97",
                                    "ranking": "7",
                                    "percentile_ranking": "99.04",
                                    "interest_summary": "Consumers reading online reviews of luxury travel options.",
                                    "created_at": "2016-05-26 14:57:59.000",
                                    "last_modified": "2018-05-23 11:30:12.000"
                                },
                                {
                                    "ConvertedDate": "2018-07-01",
                                    "interest_id": "6111",
                                    "interest_name": "Wine Lovers",
                                    "composition": "10.71",
                                    "index_value": "4.83",
                                    "ranking": "8",
                                    "percentile_ranking": "98.9",
                                    "interest_summary": "Consumers researching wine and purchasing alcohol online. These consumers are more likely to purchase wine and visit vineyards.",
                                    "created_at": "2017-03-27 16:59:29.000",
                                    "last_modified": "2017-12-07 12:35:47.000"
                                },
                                {
                                    "ConvertedDate": "2018-07-01",
                                    "interest_id": "6214",
                                    "interest_name": "Home Remodelers",
                                    "composition": "9.71",
                                    "index_value": "4.83",
                                    "ranking": "8",
                                    "percentile_ranking": "98.9",
                                    "interest_summary": "People researching techniques and resources for home remodels.",
                                    "created_at": "2017-03-27 16:59:29.000",
                                    "last_modified": "2018-05-23 11:30:12.000"
                                },
                                {
                                    "ConvertedDate": "2018-07-01",
                                    "interest_id": "19422",
                                    "interest_name": "Home Design and Living Publication Readers",
                                    "composition": "10.11",
                                    "index_value": "4.81",
                                    "ranking": "10",
                                    "percentile_ranking": "98.63",
                                    "interest_summary": "People reading publications focused on design and living at home.",
                                    "created_at": "2018-05-08 11:55:03.000",
                                    "last_modified": "2018-05-08 11:55:03.000"
                                }
                            ]
                        },
                        "text/html": [
                            "<table>",
                            "<tr><th>ConvertedDate</th><th>interest_id</th><th>interest_name</th><th>composition</th><th>index_value</th><th>ranking</th><th>percentile_ranking</th><th>interest_summary</th><th>created_at</th><th>last_modified</th></tr>",
                            "<tr><td>2018-07-01</td><td>32486</td><td>Vacation Rental Accommodation Researchers</td><td>11.89</td><td>6.19</td><td>1</td><td>99.86</td><td>People researching and booking rentals accommodations for vacations.</td><td>2018-06-29 12:55:03.000</td><td>2018-06-29 12:55:03.000</td></tr>",
                            "<tr><td>2018-07-01</td><td>6106</td><td>Luxury Second Home Owners</td><td>9.93</td><td>5.31</td><td>2</td><td>99.73</td><td>High income individuals with more than one home.</td><td>2017-03-27 16:59:29.000</td><td>2018-05-23 11:30:12.000</td></tr>",
                            "<tr><td>2018-07-01</td><td>18923</td><td>Online Home Decor Shoppers</td><td>10.85</td><td>5.29</td><td>3</td><td>99.59</td><td>Consumers shopping online for home decor available for delivery.</td><td>2018-04-19 18:25:02.000</td><td>2018-04-19 18:25:02.000</td></tr>",
                            "<tr><td>2018-07-01</td><td>6344</td><td>Hair Care Shoppers</td><td>10.32</td><td>5.1</td><td>4</td><td>99.45</td><td>Consumers researching trends and purchasing hair and beauty products.</td><td>2017-05-15 13:04:55.000</td><td>2018-05-31 22:11:37.000</td></tr>",
                            "<tr><td>2018-07-01</td><td>100</td><td>Nutrition Conscious Eaters</td><td>10.77</td><td>5.04</td><td>5</td><td>99.31</td><td>Consumer reading about healthy eating options.</td><td>2016-05-26 14:57:59.000</td><td>2018-05-23 11:30:13.000</td></tr>",
                            "<tr><td>2018-07-01</td><td>69</td><td>Healthy Eaters</td><td>10.82</td><td>5.03</td><td>6</td><td>99.18</td><td>People researching healthy eating options.</td><td>2016-05-26 14:57:59.000</td><td>2018-05-23 11:30:12.000</td></tr>",
                            "<tr><td>2018-07-01</td><td>79</td><td>Luxury Travel Researchers</td><td>11.21</td><td>4.97</td><td>7</td><td>99.04</td><td>Consumers reading online reviews of luxury travel options.</td><td>2016-05-26 14:57:59.000</td><td>2018-05-23 11:30:12.000</td></tr>",
                            "<tr><td>2018-07-01</td><td>6111</td><td>Wine Lovers</td><td>10.71</td><td>4.83</td><td>8</td><td>98.9</td><td>Consumers researching wine and purchasing alcohol online. These consumers are more likely to purchase wine and visit vineyards.</td><td>2017-03-27 16:59:29.000</td><td>2017-12-07 12:35:47.000</td></tr>",
                            "<tr><td>2018-07-01</td><td>6214</td><td>Home Remodelers</td><td>9.71</td><td>4.83</td><td>8</td><td>98.9</td><td>People researching techniques and resources for home remodels.</td><td>2017-03-27 16:59:29.000</td><td>2018-05-23 11:30:12.000</td></tr>",
                            "<tr><td>2018-07-01</td><td>19422</td><td>Home Design and Living Publication Readers</td><td>10.11</td><td>4.81</td><td>10</td><td>98.63</td><td>People reading publications focused on design and living at home.</td><td>2018-05-08 11:55:03.000</td><td>2018-05-08 11:55:03.000</td></tr>",
                            "</table>"
                        ]
                    }
                }
            ],
            "execution_count": 9
        },
        {
            "cell_type": "markdown",
            "source": [
                "Interest Analysis\n",
                "\n",
                "1. Which interests have been present in all `month_year` dates in our dataset?"
            ],
            "metadata": {
                "language": "sql",
                "azdata_cell_guid": "43d9772e-e89e-4265-84e1-9f21b24634f0"
            },
            "attachments": {}
        },
        {
            "cell_type": "code",
            "source": [
                "SELECT TOP 10\r\n",
                "    interest_id,\r\n",
                "    COUNT(month_year) AS TOTAL_MONTH\r\n",
                "FROM fresh_segments.interest_metrics\r\n",
                "GROUP BY interest_id\r\n",
                "HAVING COUNT(month_year) = (\r\n",
                "    SELECT COUNT(DISTINCT(month_year))\r\n",
                "    FROM fresh_segments.interest_metrics\r\n",
                "    WHERE month_year != 'no record'\r\n",
                ")\r\n",
                "-- TOTAL_MONTH: khoảng thời gian dài nhất được ghi nhận mà 1 online ad nhận được sự tương tác từ khách hàng"
            ],
            "metadata": {
                "language": "sql",
                "azdata_cell_guid": "dffe9575-c87a-490c-9330-39521d55ba3e"
            },
            "outputs": [
                {
                    "output_type": "display_data",
                    "data": {
                        "text/html": "(10 rows affected)"
                    },
                    "metadata": {}
                },
                {
                    "output_type": "display_data",
                    "data": {
                        "text/html": "Total execution time: 00:00:00.106"
                    },
                    "metadata": {}
                },
                {
                    "output_type": "execute_result",
                    "metadata": {},
                    "execution_count": 8,
                    "data": {
                        "application/vnd.dataresource+json": {
                            "schema": {
                                "fields": [
                                    {
                                        "name": "interest_id"
                                    },
                                    {
                                        "name": "TOTAL_MONTH"
                                    }
                                ]
                            },
                            "data": [
                                {
                                    "interest_id": "100",
                                    "TOTAL_MONTH": "14"
                                },
                                {
                                    "interest_id": "10008",
                                    "TOTAL_MONTH": "14"
                                },
                                {
                                    "interest_id": "101",
                                    "TOTAL_MONTH": "14"
                                },
                                {
                                    "interest_id": "102",
                                    "TOTAL_MONTH": "14"
                                },
                                {
                                    "interest_id": "10249",
                                    "TOTAL_MONTH": "14"
                                },
                                {
                                    "interest_id": "10250",
                                    "TOTAL_MONTH": "14"
                                },
                                {
                                    "interest_id": "10284",
                                    "TOTAL_MONTH": "14"
                                },
                                {
                                    "interest_id": "10326",
                                    "TOTAL_MONTH": "14"
                                },
                                {
                                    "interest_id": "10351",
                                    "TOTAL_MONTH": "14"
                                },
                                {
                                    "interest_id": "107",
                                    "TOTAL_MONTH": "14"
                                }
                            ]
                        },
                        "text/html": [
                            "<table>",
                            "<tr><th>interest_id</th><th>TOTAL_MONTH</th></tr>",
                            "<tr><td>100</td><td>14</td></tr>",
                            "<tr><td>10008</td><td>14</td></tr>",
                            "<tr><td>101</td><td>14</td></tr>",
                            "<tr><td>102</td><td>14</td></tr>",
                            "<tr><td>10249</td><td>14</td></tr>",
                            "<tr><td>10250</td><td>14</td></tr>",
                            "<tr><td>10284</td><td>14</td></tr>",
                            "<tr><td>10326</td><td>14</td></tr>",
                            "<tr><td>10351</td><td>14</td></tr>",
                            "<tr><td>107</td><td>14</td></tr>",
                            "</table>"
                        ]
                    }
                }
            ],
            "execution_count": 8
        },
        {
            "cell_type": "markdown",
            "source": [
                "2. Using this same `total_months` measure - calculate the cumulative percentage of all records starting at 14 months - which `total_months` value passes the 90% cumulative percentage value?"
            ],
            "metadata": {
                "language": "sql",
                "azdata_cell_guid": "d4964fc7-df5d-4a38-9abb-8066278e1a7d"
            },
            "attachments": {}
        },
        {
            "cell_type": "code",
            "source": [
                "DECLARE @total FLOAT\r\n",
                "SELECT \r\n",
                "     @total = SUM(TOTAL_MONTH) \r\n",
                "FROM (\r\n",
                "    SELECT \r\n",
                "        interest_id,\r\n",
                "        COUNT(month_year) AS TOTAL_MONTH\r\n",
                "    FROM fresh_segments.interest_metrics\r\n",
                "    WHERE month_year != 'no record'\r\n",
                "    GROUP BY interest_id\r\n",
                ") AS result;\r\n",
                "\r\n",
                "WITH CTE AS \r\n",
                "    (SELECT \r\n",
                "        interest_id,\r\n",
                "        TOTAL_MONTH,\r\n",
                "        -- Tính tổng tích lũy (Cumulative Sum) từ dòng hiện tại đến tất cả các dòng trước đó\r\n",
                "        SUM(TOTAL_MONTH) OVER (ORDER BY TOTAL_MONTH DESC ROWS BETWEEN UNBOUNDED PRECEDING AND CURRENT ROW) AS cumulative_sum\r\n",
                "    FROM (\r\n",
                "        SELECT \r\n",
                "            interest_id,\r\n",
                "            COUNT(month_year) AS TOTAL_MONTH\r\n",
                "        FROM fresh_segments.interest_metrics\r\n",
                "        WHERE month_year != 'no record'\r\n",
                "        GROUP BY interest_id\r\n",
                "    ) AS RESULT2)\r\n",
                ", CTE1 AS\r\n",
                "\t(SELECT \r\n",
                "\t\tinterest_id,\r\n",
                "\t\tTOTAL_MONTH,\r\n",
                "\t\tcumulative_sum,\r\n",
                "\t\tROUND(cast( (cumulative_sum / @total) as float)*100,2) AS cumulative_percentage\r\n",
                "\tFROM CTE) \r\n",
                "\r\n",
                "SELECT TOP 10\r\n",
                "\tinterest_id,\r\n",
                "\tTOTAL_MONTH,\r\n",
                "\tcumulative_percentage\r\n",
                "FROM CTE1\r\n",
                "WHERE cumulative_percentage > 90\r\n",
                "\r\n",
                "-- Trong tập dữ liệu, thời dài nhất mà một online ad nhận được sự tương tác từ khách hàng là 14 tháng.\r\n",
                "-- Trong đó, chiếm 10% là các online ad có thời gian tương tác với khách hàng ít hơn 8 tháng"
            ],
            "metadata": {
                "language": "sql",
                "azdata_cell_guid": "30fa6de6-532b-4f6f-ad6b-474c6efdc158"
            },
            "outputs": [
                {
                    "output_type": "display_data",
                    "data": {
                        "text/html": "(10 rows affected)"
                    },
                    "metadata": {}
                },
                {
                    "output_type": "display_data",
                    "data": {
                        "text/html": "Total execution time: 00:00:00.257"
                    },
                    "metadata": {}
                },
                {
                    "output_type": "execute_result",
                    "metadata": {},
                    "execution_count": 7,
                    "data": {
                        "application/vnd.dataresource+json": {
                            "schema": {
                                "fields": [
                                    {
                                        "name": "interest_id"
                                    },
                                    {
                                        "name": "TOTAL_MONTH"
                                    },
                                    {
                                        "name": "cumulative_percentage"
                                    }
                                ]
                            },
                            "data": [
                                {
                                    "interest_id": "57",
                                    "TOTAL_MONTH": "8",
                                    "cumulative_percentage": "90.06"
                                },
                                {
                                    "interest_id": "6363",
                                    "TOTAL_MONTH": "8",
                                    "cumulative_percentage": "90.12"
                                },
                                {
                                    "interest_id": "5900",
                                    "TOTAL_MONTH": "7",
                                    "cumulative_percentage": "90.18"
                                },
                                {
                                    "interest_id": "4847",
                                    "TOTAL_MONTH": "7",
                                    "cumulative_percentage": "90.23"
                                },
                                {
                                    "interest_id": "45725",
                                    "TOTAL_MONTH": "7",
                                    "cumulative_percentage": "90.29"
                                },
                                {
                                    "interest_id": "45673",
                                    "TOTAL_MONTH": "7",
                                    "cumulative_percentage": "90.34"
                                },
                                {
                                    "interest_id": "45674",
                                    "TOTAL_MONTH": "7",
                                    "cumulative_percentage": "90.4"
                                },
                                {
                                    "interest_id": "45675",
                                    "TOTAL_MONTH": "7",
                                    "cumulative_percentage": "90.45"
                                },
                                {
                                    "interest_id": "45676",
                                    "TOTAL_MONTH": "7",
                                    "cumulative_percentage": "90.51"
                                },
                                {
                                    "interest_id": "45677",
                                    "TOTAL_MONTH": "7",
                                    "cumulative_percentage": "90.56"
                                }
                            ]
                        },
                        "text/html": [
                            "<table>",
                            "<tr><th>interest_id</th><th>TOTAL_MONTH</th><th>cumulative_percentage</th></tr>",
                            "<tr><td>57</td><td>8</td><td>90.06</td></tr>",
                            "<tr><td>6363</td><td>8</td><td>90.12</td></tr>",
                            "<tr><td>5900</td><td>7</td><td>90.18</td></tr>",
                            "<tr><td>4847</td><td>7</td><td>90.23</td></tr>",
                            "<tr><td>45725</td><td>7</td><td>90.29</td></tr>",
                            "<tr><td>45673</td><td>7</td><td>90.34</td></tr>",
                            "<tr><td>45674</td><td>7</td><td>90.4</td></tr>",
                            "<tr><td>45675</td><td>7</td><td>90.45</td></tr>",
                            "<tr><td>45676</td><td>7</td><td>90.51</td></tr>",
                            "<tr><td>45677</td><td>7</td><td>90.56</td></tr>",
                            "</table>"
                        ]
                    }
                }
            ],
            "execution_count": 7
        },
        {
            "cell_type": "markdown",
            "source": [
                "3. If we were to remove all `interest_id` values which are lower than the `total_months` value we found in the previous question - how many total data points would we be removing?"
            ],
            "metadata": {
                "language": "sql",
                "azdata_cell_guid": "a4e491ce-5f67-43c3-be9e-1a9ef31e6da0"
            },
            "attachments": {}
        },
        {
            "cell_type": "code",
            "source": [
                "SELECT \r\n",
                "    COUNT(T1.interest_id) AS [NUMBER OF RECORDS REMOVED]\r\n",
                "FROM fresh_segments.interest_metrics T1 JOIN (\r\n",
                "    SELECT \r\n",
                "        interest_id,\r\n",
                "        COUNT(month_year) AS 'TOTAL MONTH'\r\n",
                "    FROM fresh_segments.interest_metrics\r\n",
                "    GROUP BY INTEREST_ID\r\n",
                "    HAVING COUNT(month_year) <= 8    \r\n",
                ") T2\r\n",
                "    ON T1.interest_id = T2.interest_id\r\n",
                ""
            ],
            "metadata": {
                "language": "sql",
                "azdata_cell_guid": "6a9d705d-d5df-45b9-bf98-d914341148db"
            },
            "outputs": [
                {
                    "output_type": "display_data",
                    "data": {
                        "text/html": "(1 row affected)"
                    },
                    "metadata": {}
                },
                {
                    "output_type": "display_data",
                    "data": {
                        "text/html": "Total execution time: 00:00:00.049"
                    },
                    "metadata": {}
                },
                {
                    "output_type": "execute_result",
                    "execution_count": 20,
                    "data": {
                        "application/vnd.dataresource+json": {
                            "schema": {
                                "fields": [
                                    {
                                        "name": "NUMBER OF RECORDS REMOVED"
                                    }
                                ]
                            },
                            "data": [
                                {
                                    "NUMBER OF RECORDS REMOVED": "1827"
                                }
                            ]
                        },
                        "text/html": "<table><tr><th>NUMBER OF RECORDS REMOVED</th></tr><tr><td>1827</td></tr></table>"
                    },
                    "metadata": {}
                }
            ],
            "execution_count": 20
        },
        {
            "cell_type": "markdown",
            "source": [
                "4. Does this decision make sense to remove these data points from a business perspective? Use an example where there are all 14 months present to a removed `interest` example for your arguments - think about what it means to have less months present from a segment perspective.\r\n",
                "\r\n",
                "Từ khía cạnh doanh nghiệp:\r\n",
                "\r\n",
                "- 1 strategic online ad có thể nằm trong 1 chiến lược hoạt động của business customer hoặc cùng 1 segment marketing online, giả sử một sản phẩm mới được tung ra và sản phẩm online ad được dùng để quan sát cảm nhận người tiêu dùng đối với sản phẩm trong thời gian ngắn, việc remove những records này đồng nghĩa với việc Fresh_Segments đưa ra nhìn nhận chủ quan khi cho rằng những online ad này không hiệu quả vì thời gian tương tác với khách hàng quá ít hoặc số lượng online ad nằm trong 1 phân khúc cụ thể không quá nhiều.\r\n",
                "\r\n",
                "Từ khía cạnh người phân tích dữ liệu:\r\n",
                "\r\n",
                "- Cần tìm hiểu xem những ad online này có cùng thuộc 1 business customer, chiến lược phía sau cũng như mục đích của business customer khi launch những strategic online ad này là gì,..\r\n",
                "\r\n",
                "- Những metrics của các online ad này có phải outliers value trong dataset hay không? (Bởi vì outliers có thể ảnh hưởng cả tích cực lẫn tiêu cực đến quá trình phân tích)\r\n",
                "\r\n",
                "--> Việc đưa ra quyết định loại bỏ ngay những records có thời gian tương tác với khách hàng ít hơn 8 tháng là không hợp lý."
            ],
            "metadata": {
                "language": "sql",
                "azdata_cell_guid": "f8212f28-2ef3-4c47-b3eb-826817f76b17"
            },
            "attachments": {}
        },
        {
            "cell_type": "markdown",
            "source": [
                "5. After removing these interests - how many unique interests are there for each month?"
            ],
            "metadata": {
                "language": "sql",
                "azdata_cell_guid": "d6573627-f519-4f3d-808c-3ecb51ac86aa"
            },
            "attachments": {}
        },
        {
            "cell_type": "code",
            "source": [
                "WITH CTE1 AS \r\n",
                "(    SELECT \r\n",
                "        interest_id,\r\n",
                "        COUNT(month_year) AS TOTAL_MONTH\r\n",
                "    FROM fresh_segments.interest_metrics\r\n",
                "    WHERE month_year != 'NO RECORD'\r\n",
                "    GROUP BY interest_id\r\n",
                "    HAVING COUNT(month_year) <= 8)\r\n",
                ", CTE2 AS \r\n",
                "(    SELECT \r\n",
                "        CAST(CAST(month_year + '-01' AS nvarchar(10)) AS date) AS ConvertedDate,\r\n",
                "        interest_id\r\n",
                "    FROM fresh_segments.interest_metrics\r\n",
                "    WHERE interest_id NOT IN (\r\n",
                "        SELECT \r\n",
                "            interest_id\r\n",
                "        FROM CTE1\r\n",
                "    ) AND month_year != 'NO RECORD')\r\n",
                "\r\n",
                "SELECT \r\n",
                "    ConvertedDate,\r\n",
                "    COUNT(DISTINCT(interest_id)) AS [NUMBER OF UNIQUE INTEREST]\r\n",
                "FROM CTE2\r\n",
                "GROUP BY ConvertedDate\r\n",
                "ORDER BY ConvertedDate;"
            ],
            "metadata": {
                "language": "sql",
                "azdata_cell_guid": "fb9b3b8e-2563-48c2-85f5-156f6ac347d4"
            },
            "outputs": [
                {
                    "output_type": "display_data",
                    "data": {
                        "text/html": "(14 rows affected)"
                    },
                    "metadata": {}
                },
                {
                    "output_type": "display_data",
                    "data": {
                        "text/html": "Total execution time: 00:00:00.349"
                    },
                    "metadata": {}
                },
                {
                    "output_type": "execute_result",
                    "execution_count": 18,
                    "data": {
                        "application/vnd.dataresource+json": {
                            "schema": {
                                "fields": [
                                    {
                                        "name": "ConvertedDate"
                                    },
                                    {
                                        "name": "NUMBER OF UNIQUE INTEREST"
                                    }
                                ]
                            },
                            "data": [
                                {
                                    "ConvertedDate": "2018-07-01",
                                    "NUMBER OF UNIQUE INTEREST": "681"
                                },
                                {
                                    "ConvertedDate": "2018-08-01",
                                    "NUMBER OF UNIQUE INTEREST": "720"
                                },
                                {
                                    "ConvertedDate": "2018-09-01",
                                    "NUMBER OF UNIQUE INTEREST": "744"
                                },
                                {
                                    "ConvertedDate": "2018-10-01",
                                    "NUMBER OF UNIQUE INTEREST": "792"
                                },
                                {
                                    "ConvertedDate": "2018-11-01",
                                    "NUMBER OF UNIQUE INTEREST": "848"
                                },
                                {
                                    "ConvertedDate": "2018-12-01",
                                    "NUMBER OF UNIQUE INTEREST": "884"
                                },
                                {
                                    "ConvertedDate": "2019-01-01",
                                    "NUMBER OF UNIQUE INTEREST": "861"
                                },
                                {
                                    "ConvertedDate": "2019-02-01",
                                    "NUMBER OF UNIQUE INTEREST": "885"
                                },
                                {
                                    "ConvertedDate": "2019-03-01",
                                    "NUMBER OF UNIQUE INTEREST": "885"
                                },
                                {
                                    "ConvertedDate": "2019-04-01",
                                    "NUMBER OF UNIQUE INTEREST": "861"
                                },
                                {
                                    "ConvertedDate": "2019-05-01",
                                    "NUMBER OF UNIQUE INTEREST": "458"
                                },
                                {
                                    "ConvertedDate": "2019-06-01",
                                    "NUMBER OF UNIQUE INTEREST": "700"
                                },
                                {
                                    "ConvertedDate": "2019-07-01",
                                    "NUMBER OF UNIQUE INTEREST": "728"
                                },
                                {
                                    "ConvertedDate": "2019-08-01",
                                    "NUMBER OF UNIQUE INTEREST": "872"
                                }
                            ]
                        },
                        "text/html": "<table><tr><th>ConvertedDate</th><th>NUMBER OF UNIQUE INTEREST</th></tr><tr><td>2018-07-01</td><td>681</td></tr><tr><td>2018-08-01</td><td>720</td></tr><tr><td>2018-09-01</td><td>744</td></tr><tr><td>2018-10-01</td><td>792</td></tr><tr><td>2018-11-01</td><td>848</td></tr><tr><td>2018-12-01</td><td>884</td></tr><tr><td>2019-01-01</td><td>861</td></tr><tr><td>2019-02-01</td><td>885</td></tr><tr><td>2019-03-01</td><td>885</td></tr><tr><td>2019-04-01</td><td>861</td></tr><tr><td>2019-05-01</td><td>458</td></tr><tr><td>2019-06-01</td><td>700</td></tr><tr><td>2019-07-01</td><td>728</td></tr><tr><td>2019-08-01</td><td>872</td></tr></table>"
                    },
                    "metadata": {}
                }
            ],
            "execution_count": 18
        },
        {
            "cell_type": "markdown",
            "source": [
                "Segment Analysis\n",
                "\n",
                "1. Using our filtered dataset by removing the interests with less than 6 months worth of data, which are the top 10 and bottom 10 interests which have the largest composition values in any `month_year`? Only use the maximum composition value for each interest but you must keep the corresponding `month_year`"
            ],
            "metadata": {
                "language": "sql",
                "azdata_cell_guid": "b8442d07-f3ac-4006-8fb8-7dfd50cfc86f"
            },
            "attachments": {}
        },
        {
            "cell_type": "code",
            "source": [
                "CREATE VIEW filtered_data as\r\n",
                "    WITH CTE1 AS \r\n",
                "    (    SELECT\r\n",
                "            interest_id,\r\n",
                "            COUNT(month_year) AS TOTAL_MONTH\r\n",
                "        FROM fresh_segments.interest_metrics\r\n",
                "        WHERE month_year != 'NO RECORD'\r\n",
                "        GROUP BY interest_id\r\n",
                "        HAVING COUNT(month_year) > 6)\r\n",
                "    , CTE2 AS (\r\n",
                "        SELECT \r\n",
                "            CAST(CAST(month_year + '-01' AS nvarchar(10)) AS date) AS ConvertedDate,\r\n",
                "            interest_id,\r\n",
                "            composition,\r\n",
                "            index_value,\r\n",
                "            ranking,\r\n",
                "            percentile_ranking\r\n",
                "        FROM fresh_segments.interest_metrics\r\n",
                "        WHERE interest_id IN \r\n",
                "            (\r\n",
                "                SELECT interest_id\r\n",
                "                FROM CTE1\r\n",
                "            ) AND month_year != 'NO RECORD'\r\n",
                "    )\r\n",
                "    SELECT\r\n",
                "        ConvertedDate,\r\n",
                "        interest_id,\r\n",
                "        composition,\r\n",
                "        index_value,\r\n",
                "        ranking,\r\n",
                "        percentile_ranking  \r\n",
                "    FROM CTE2"
            ],
            "metadata": {
                "language": "sql",
                "azdata_cell_guid": "856e1ffa-1ec5-4793-bc94-21c15c544fd6",
                "tags": []
            },
            "outputs": [
                {
                    "output_type": "display_data",
                    "data": {
                        "text/html": "Commands completed successfully."
                    },
                    "metadata": {}
                },
                {
                    "output_type": "display_data",
                    "data": {
                        "text/html": "Total execution time: 00:00:00.042"
                    },
                    "metadata": {}
                }
            ],
            "execution_count": 11
        },
        {
            "cell_type": "code",
            "source": [
                ";WITH CTE0 AS\r\n",
                "    (SELECT \r\n",
                "        ConvertedDate,\r\n",
                "        interest_id,\r\n",
                "        composition,\r\n",
                "        DENSE_RANK() OVER (PARTITION BY interest_id ORDER BY composition DESC) AS [COMPOSITION RANK TEMP]\r\n",
                "    FROM filtered_data),\r\n",
                "CTE1 AS (\r\n",
                "    SELECT\r\n",
                "        ConvertedDate,\r\n",
                "        interest_id,\r\n",
                "        composition\r\n",
                "    FROM CTE0 \r\n",
                "    WHERE [COMPOSITION RANK TEMP] = 1 --- Lấy những composition cao nhất của mỗi interest_id\r\n",
                "), --- Lấy top 10\r\n",
                "CTE2 AS (\r\n",
                "    SELECT TOP 10\r\n",
                "        ConvertedDate,\r\n",
                "        interest_id,\r\n",
                "        composition,\r\n",
                "        DENSE_RANK() OVER (ORDER BY composition DESC) AS [COMPOSITION RANK]\r\n",
                "    FROM CTE1\r\n",
                "), --- lấy bottom 10\r\n",
                "CTE3 AS (\r\n",
                "    SELECT\r\n",
                "        ConvertedDate,\r\n",
                "        interest_id,\r\n",
                "        composition,\r\n",
                "        DENSE_RANK() OVER (ORDER BY composition DESC) AS [COMPOSITION RANK]\r\n",
                "    FROM CTE1\r\n",
                "    ORDER BY composition DESC\r\n",
                "    OFFSET ((SELECT COUNT(interest_id) FROM CTE1) - 10) ROWS\r\n",
                "    FETCH NEXT 10 ROWS ONLY\r\n",
                ")\r\n",
                "--- nối top 10 với bottom 10\r\n",
                "SELECT\r\n",
                "    ConvertedDate,\r\n",
                "    interest_id,\r\n",
                "    [COMPOSITION RANK]\r\n",
                "FROM CTE2\r\n",
                "UNION\r\n",
                "SELECT\r\n",
                "    ConvertedDate,\r\n",
                "    interest_id,\r\n",
                "    [COMPOSITION RANK]\r\n",
                "FROM CTE3\r\n",
                "ORDER BY [COMPOSITION RANK]"
            ],
            "metadata": {
                "language": "sql",
                "azdata_cell_guid": "8961f51b-ca74-4b1c-a166-3a50b8e5934a",
                "tags": []
            },
            "outputs": [
                {
                    "output_type": "display_data",
                    "data": {
                        "text/html": "(20 rows affected)"
                    },
                    "metadata": {}
                },
                {
                    "output_type": "display_data",
                    "data": {
                        "text/html": "Total execution time: 00:00:00.440"
                    },
                    "metadata": {}
                },
                {
                    "output_type": "execute_result",
                    "metadata": {},
                    "execution_count": 13,
                    "data": {
                        "application/vnd.dataresource+json": {
                            "schema": {
                                "fields": [
                                    {
                                        "name": "ConvertedDate"
                                    },
                                    {
                                        "name": "interest_id"
                                    },
                                    {
                                        "name": "COMPOSITION RANK"
                                    }
                                ]
                            },
                            "data": [
                                {
                                    "ConvertedDate": "2018-12-01",
                                    "interest_id": "21057",
                                    "COMPOSITION RANK": "1"
                                },
                                {
                                    "ConvertedDate": "2018-07-01",
                                    "interest_id": "6284",
                                    "COMPOSITION RANK": "2"
                                },
                                {
                                    "ConvertedDate": "2018-07-01",
                                    "interest_id": "39",
                                    "COMPOSITION RANK": "3"
                                },
                                {
                                    "ConvertedDate": "2018-07-01",
                                    "interest_id": "77",
                                    "COMPOSITION RANK": "4"
                                },
                                {
                                    "ConvertedDate": "2018-10-01",
                                    "interest_id": "12133",
                                    "COMPOSITION RANK": "5"
                                },
                                {
                                    "ConvertedDate": "2018-12-01",
                                    "interest_id": "5969",
                                    "COMPOSITION RANK": "6"
                                },
                                {
                                    "ConvertedDate": "2018-07-01",
                                    "interest_id": "171",
                                    "COMPOSITION RANK": "7"
                                },
                                {
                                    "ConvertedDate": "2018-07-01",
                                    "interest_id": "4898",
                                    "COMPOSITION RANK": "8"
                                },
                                {
                                    "ConvertedDate": "2018-07-01",
                                    "interest_id": "6286",
                                    "COMPOSITION RANK": "9"
                                },
                                {
                                    "ConvertedDate": "2018-07-01",
                                    "interest_id": "4",
                                    "COMPOSITION RANK": "10"
                                },
                                {
                                    "ConvertedDate": "2018-07-01",
                                    "interest_id": "20752",
                                    "COMPOSITION RANK": "540"
                                },
                                {
                                    "ConvertedDate": "2019-08-01",
                                    "interest_id": "19632",
                                    "COMPOSITION RANK": "540"
                                },
                                {
                                    "ConvertedDate": "2018-07-01",
                                    "interest_id": "58",
                                    "COMPOSITION RANK": "541"
                                },
                                {
                                    "ConvertedDate": "2019-02-01",
                                    "interest_id": "36138",
                                    "COMPOSITION RANK": "541"
                                },
                                {
                                    "ConvertedDate": "2019-08-01",
                                    "interest_id": "34085",
                                    "COMPOSITION RANK": "542"
                                },
                                {
                                    "ConvertedDate": "2018-07-01",
                                    "interest_id": "22408",
                                    "COMPOSITION RANK": "543"
                                },
                                {
                                    "ConvertedDate": "2019-01-01",
                                    "interest_id": "42011",
                                    "COMPOSITION RANK": "544"
                                },
                                {
                                    "ConvertedDate": "2018-10-01",
                                    "interest_id": "19591",
                                    "COMPOSITION RANK": "545"
                                },
                                {
                                    "ConvertedDate": "2019-03-01",
                                    "interest_id": "19599",
                                    "COMPOSITION RANK": "546"
                                },
                                {
                                    "ConvertedDate": "2018-10-01",
                                    "interest_id": "37412",
                                    "COMPOSITION RANK": "547"
                                }
                            ]
                        },
                        "text/html": [
                            "<table>",
                            "<tr><th>ConvertedDate</th><th>interest_id</th><th>COMPOSITION RANK</th></tr>",
                            "<tr><td>2018-12-01</td><td>21057</td><td>1</td></tr>",
                            "<tr><td>2018-07-01</td><td>6284</td><td>2</td></tr>",
                            "<tr><td>2018-07-01</td><td>39</td><td>3</td></tr>",
                            "<tr><td>2018-07-01</td><td>77</td><td>4</td></tr>",
                            "<tr><td>2018-10-01</td><td>12133</td><td>5</td></tr>",
                            "<tr><td>2018-12-01</td><td>5969</td><td>6</td></tr>",
                            "<tr><td>2018-07-01</td><td>171</td><td>7</td></tr>",
                            "<tr><td>2018-07-01</td><td>4898</td><td>8</td></tr>",
                            "<tr><td>2018-07-01</td><td>6286</td><td>9</td></tr>",
                            "<tr><td>2018-07-01</td><td>4</td><td>10</td></tr>",
                            "<tr><td>2018-07-01</td><td>20752</td><td>540</td></tr>",
                            "<tr><td>2019-08-01</td><td>19632</td><td>540</td></tr>",
                            "<tr><td>2018-07-01</td><td>58</td><td>541</td></tr>",
                            "<tr><td>2019-02-01</td><td>36138</td><td>541</td></tr>",
                            "<tr><td>2019-08-01</td><td>34085</td><td>542</td></tr>",
                            "<tr><td>2018-07-01</td><td>22408</td><td>543</td></tr>",
                            "<tr><td>2019-01-01</td><td>42011</td><td>544</td></tr>",
                            "<tr><td>2018-10-01</td><td>19591</td><td>545</td></tr>",
                            "<tr><td>2019-03-01</td><td>19599</td><td>546</td></tr>",
                            "<tr><td>2018-10-01</td><td>37412</td><td>547</td></tr>",
                            "</table>"
                        ]
                    }
                }
            ],
            "execution_count": 13
        },
        {
            "cell_type": "markdown",
            "source": [
                "2. Which 5 interests had the lowest average `ranking` value?"
            ],
            "metadata": {
                "language": "sql",
                "azdata_cell_guid": "bce684c0-9116-40ab-944b-3a934be95438"
            },
            "attachments": {}
        },
        {
            "cell_type": "code",
            "source": [
                "WITH CTE0 AS \r\n",
                "    (SELECT \r\n",
                "        interest_id,\r\n",
                "        AVG(ranking) AS AVERAGE_VALUE\r\n",
                "    FROM filtered_data\r\n",
                "    GROUP BY interest_id , ranking)\r\n",
                "\r\n",
                "SELECT TOP 5\r\n",
                "    interest_id,\r\n",
                "    AVERAGE_VALUE AS LOWEST_AVG_RANKING,\r\n",
                "    DENSE_RANK() OVER (ORDER BY AVERAGE_VALUE ASC) AS AVERAGE_RANKING_VALUE\r\n",
                "FROM CTE0 "
            ],
            "metadata": {
                "language": "sql",
                "azdata_cell_guid": "16a6387d-c3c5-4e64-990b-f461b9580c3a"
            },
            "outputs": [
                {
                    "output_type": "display_data",
                    "data": {
                        "text/html": "(5 rows affected)"
                    },
                    "metadata": {}
                },
                {
                    "output_type": "display_data",
                    "data": {
                        "text/html": "Total execution time: 00:00:07.795"
                    },
                    "metadata": {}
                },
                {
                    "output_type": "execute_result",
                    "execution_count": 12,
                    "data": {
                        "application/vnd.dataresource+json": {
                            "schema": {
                                "fields": [
                                    {
                                        "name": "interest_id"
                                    },
                                    {
                                        "name": "LOWEST_AVG_RANKING"
                                    },
                                    {
                                        "name": "AVERAGE_RANKING_VALUE"
                                    }
                                ]
                            },
                            "data": [
                                {
                                    "interest_id": "6285",
                                    "LOWEST_AVG_RANKING": "1",
                                    "AVERAGE_RANKING_VALUE": "1"
                                },
                                {
                                    "interest_id": "32486",
                                    "LOWEST_AVG_RANKING": "1",
                                    "AVERAGE_RANKING_VALUE": "1"
                                },
                                {
                                    "interest_id": "6218",
                                    "LOWEST_AVG_RANKING": "1",
                                    "AVERAGE_RANKING_VALUE": "1"
                                },
                                {
                                    "interest_id": "41548",
                                    "LOWEST_AVG_RANKING": "1",
                                    "AVERAGE_RANKING_VALUE": "1"
                                },
                                {
                                    "interest_id": "42203",
                                    "LOWEST_AVG_RANKING": "2",
                                    "AVERAGE_RANKING_VALUE": "2"
                                }
                            ]
                        },
                        "text/html": "<table><tr><th>interest_id</th><th>LOWEST_AVG_RANKING</th><th>AVERAGE_RANKING_VALUE</th></tr><tr><td>6285</td><td>1</td><td>1</td></tr><tr><td>32486</td><td>1</td><td>1</td></tr><tr><td>6218</td><td>1</td><td>1</td></tr><tr><td>41548</td><td>1</td><td>1</td></tr><tr><td>42203</td><td>2</td><td>2</td></tr></table>"
                    },
                    "metadata": {}
                }
            ],
            "execution_count": 12
        },
        {
            "cell_type": "markdown",
            "source": [
                "3. Which 5 interests had the largest standard deviation in their `percentile_ranking` value?"
            ],
            "metadata": {
                "language": "sql",
                "azdata_cell_guid": "560121e3-9d00-4f7d-833b-c7a7809534ac"
            },
            "attachments": {}
        },
        {
            "cell_type": "code",
            "source": [
                "WITH CTE0 AS \r\n",
                "    (SELECT \r\n",
                "        interest_id,\r\n",
                "        percentile_ranking,\r\n",
                "        ROUND(\r\n",
                "            AVG(percentile_ranking) OVER (PARTITION BY interest_id),2) AS AVG_BY_PERCENTILE_RANKING,\r\n",
                "        ROUND(\r\n",
                "            POWER(\r\n",
                "                (percentile_ranking - ROUND(AVG(percentile_ranking) OVER (PARTITION BY interest_id),2)),2),2) AS SQUARE_OF_DIFF\r\n",
                "    FROM FILTERED_DATA),\r\n",
                "CTE1 AS \r\n",
                "    (SELECT\r\n",
                "        interest_id,\r\n",
                "        percentile_ranking,\r\n",
                "        AVG_BY_PERCENTILE_RANKING,\r\n",
                "        SQUARE_OF_DIFF,\r\n",
                "        ROUND(\r\n",
                "            SQRT(\r\n",
                "                SUM(SQUARE_OF_DIFF) OVER (PARTITION BY interest_id) / \r\n",
                "                    COUNT(interest_id) OVER (PARTITION BY interest_id)),2) AS STANDARD_DEVIATION\r\n",
                "    FROM CTE0),\r\n",
                "CTE2 AS\r\n",
                "    (\r\n",
                "        SELECT\r\n",
                "            DISTINCT(STANDARD_DEVIATION), \r\n",
                "            interest_id\r\n",
                "        FROM CTE1\r\n",
                "        ORDER BY STANDARD_DEVIATION DESC\r\n",
                "        OFFSET 0 ROW\r\n",
                "        FETCH NEXT 5 ROWS ONLY\r\n",
                "    )\r\n",
                "\r\n",
                "SELECT \r\n",
                "    interest_id,\r\n",
                "    STANDARD_DEVIATION\r\n",
                "FROM CTE2"
            ],
            "metadata": {
                "language": "sql",
                "azdata_cell_guid": "2d5f8906-a1c3-485d-ae4a-9438b5c3fb97"
            },
            "outputs": [
                {
                    "output_type": "display_data",
                    "data": {
                        "text/html": "(5 rows affected)"
                    },
                    "metadata": {}
                },
                {
                    "output_type": "display_data",
                    "data": {
                        "text/html": "Total execution time: 00:00:00.250"
                    },
                    "metadata": {}
                },
                {
                    "output_type": "execute_result",
                    "execution_count": 15,
                    "data": {
                        "application/vnd.dataresource+json": {
                            "schema": {
                                "fields": [
                                    {
                                        "name": "interest_id"
                                    },
                                    {
                                        "name": "STANDARD_DEVIATION"
                                    }
                                ]
                            },
                            "data": [
                                {
                                    "interest_id": "38992",
                                    "STANDARD_DEVIATION": "27.95"
                                },
                                {
                                    "interest_id": "43546",
                                    "STANDARD_DEVIATION": "26.01"
                                },
                                {
                                    "interest_id": "6087",
                                    "STANDARD_DEVIATION": "23.68"
                                },
                                {
                                    "interest_id": "103",
                                    "STANDARD_DEVIATION": "23.45"
                                },
                                {
                                    "interest_id": "4855",
                                    "STANDARD_DEVIATION": "23.14"
                                }
                            ]
                        },
                        "text/html": "<table><tr><th>interest_id</th><th>STANDARD_DEVIATION</th></tr><tr><td>38992</td><td>27.95</td></tr><tr><td>43546</td><td>26.01</td></tr><tr><td>6087</td><td>23.68</td></tr><tr><td>103</td><td>23.45</td></tr><tr><td>4855</td><td>23.14</td></tr></table>"
                    },
                    "metadata": {}
                }
            ],
            "execution_count": 15
        },
        {
            "cell_type": "markdown",
            "source": [
                "4. For the 5 interests found in the previous question - what was minimum and maximum `percentile_ranking` values for each interest and its corresponding `year_month` value? Can you describe what is happening for these 5 interests?"
            ],
            "metadata": {
                "language": "sql",
                "azdata_cell_guid": "deb0f88f-a5d7-4fc2-b6d3-e55743726224"
            },
            "attachments": {}
        },
        {
            "cell_type": "code",
            "source": [
                "WITH CTE0 AS \r\n",
                "    (SELECT \r\n",
                "        interest_id,\r\n",
                "        percentile_ranking,\r\n",
                "        ROUND(\r\n",
                "            AVG(percentile_ranking) OVER (PARTITION BY interest_id),2) AS AVG_BY_PERCENTILE_RANKING,\r\n",
                "        ROUND(\r\n",
                "            POWER(\r\n",
                "                (percentile_ranking - ROUND(AVG(percentile_ranking) OVER (PARTITION BY interest_id),2)),2),2) AS SQUARE_OF_DIFF\r\n",
                "    FROM FILTERED_DATA),\r\n",
                "CTE1 AS \r\n",
                "    (SELECT\r\n",
                "        interest_id,\r\n",
                "        percentile_ranking,\r\n",
                "        AVG_BY_PERCENTILE_RANKING,\r\n",
                "        SQUARE_OF_DIFF,\r\n",
                "        ROUND(\r\n",
                "            SQRT(\r\n",
                "                SUM(SQUARE_OF_DIFF) OVER (PARTITION BY interest_id) / \r\n",
                "                    COUNT(interest_id) OVER (PARTITION BY interest_id)),2) AS STANDARD_DEVIATION\r\n",
                "    FROM CTE0),\r\n",
                "CTE2 AS\r\n",
                "    (SELECT\r\n",
                "        DISTINCT(STANDARD_DEVIATION),\r\n",
                "        interest_id\r\n",
                "    FROM CTE1\r\n",
                "    ORDER BY STANDARD_DEVIATION DESC\r\n",
                "    OFFSET 0 ROW\r\n",
                "    FETCH NEXT 5 ROWS ONLY),\r\n",
                "CTE3 AS (\r\n",
                "    SELECT \r\n",
                "        DISTINCT(interest_id),\r\n",
                "        MIN(percentile_ranking) OVER (PARTITION BY interest_id ) AS MIN_PERCENTILE_RANKING,\r\n",
                "        MAX(percentile_ranking) OVER (PARTITION BY interest_id ) AS MAX_PERCENTILE_RANKING\r\n",
                "    FROM filtered_data\r\n",
                "    WHERE interest_id IN \r\n",
                "        (\r\n",
                "            SELECT \r\n",
                "                interest_id\r\n",
                "            FROM CTE2 \r\n",
                "        )\r\n",
                "),\r\n",
                "CTE4 AS --- Lấy những month_year của interest_id percentile_rank thấp nhất\r\n",
                "    (\r\n",
                "        SELECT \r\n",
                "        T1.interest_id , T2.ConvertedDate AS MONTH_YEAR_MIN_PERCENTILE, T1.MIN_PERCENTILE_RANKING\r\n",
                "    FROM CTE3 T1 JOIN filtered_data T2\r\n",
                "        ON T1.interest_id = T2.interest_id AND T1.MIN_PERCENTILE_RANKING = T2.percentile_ranking\r\n",
                "    ),\r\n",
                "CTE5 AS --- Lấy những month_year của interest_id percentile_rank cao nhất\r\n",
                "    (\r\n",
                "        SELECT \r\n",
                "            T1.interest_id , T2.ConvertedDate AS MONTH_YEAR_MAX_PERCENTILE, T1.MAX_PERCENTILE_RANKING\r\n",
                "        FROM CTE3 T1 JOIN filtered_data T2\r\n",
                "            ON T1.interest_id = T2.interest_id AND T1.MAX_PERCENTILE_RANKING = T2.percentile_ranking \r\n",
                "    )\r\n",
                "\r\n",
                "SELECT \r\n",
                "    U1.interest_id ,\r\n",
                "    U2.MONTH_YEAR_MAX_PERCENTILE,\r\n",
                "    U2.MAX_PERCENTILE_RANKING,\r\n",
                "    U1.MONTH_YEAR_MIN_PERCENTILE,\r\n",
                "    U1.MIN_PERCENTILE_RANKING,\r\n",
                "    DATEDIFF(MONTH,U2.MONTH_YEAR_MAX_PERCENTILE,U1.MONTH_YEAR_MIN_PERCENTILE) AS [TIME_INTERVAL(MONTH)]\r\n",
                "FROM CTE4 U1 JOIN CTE5 U2 \r\n",
                "    ON U1.interest_id = U2.interest_id \r\n",
                "\r\n",
                "--- càng về sau, tỷ lệ về thứ hạng index_value của các interest này đều giảm mạnh. Trong vòng 1 năm, mức độ tương tác của khách hàng đối với online ad này giảm đáng kể."
            ],
            "metadata": {
                "language": "sql",
                "azdata_cell_guid": "45f34d62-ef91-4294-a7b0-722aa64619de",
                "tags": []
            },
            "outputs": [
                {
                    "output_type": "display_data",
                    "data": {
                        "text/html": "(5 rows affected)"
                    },
                    "metadata": {}
                },
                {
                    "output_type": "display_data",
                    "data": {
                        "text/html": "Total execution time: 00:01:04.419"
                    },
                    "metadata": {}
                },
                {
                    "output_type": "execute_result",
                    "metadata": {},
                    "execution_count": 15,
                    "data": {
                        "application/vnd.dataresource+json": {
                            "schema": {
                                "fields": [
                                    {
                                        "name": "interest_id"
                                    },
                                    {
                                        "name": "MONTH_YEAR_MAX_PERCENTILE"
                                    },
                                    {
                                        "name": "MAX_PERCENTILE_RANKING"
                                    },
                                    {
                                        "name": "MONTH_YEAR_MIN_PERCENTILE"
                                    },
                                    {
                                        "name": "MIN_PERCENTILE_RANKING"
                                    },
                                    {
                                        "name": "TIME_INTERVAL(MONTH)"
                                    }
                                ]
                            },
                            "data": [
                                {
                                    "interest_id": "103",
                                    "MONTH_YEAR_MAX_PERCENTILE": "2018-07-01",
                                    "MAX_PERCENTILE_RANKING": "95.61",
                                    "MONTH_YEAR_MIN_PERCENTILE": "2019-07-01",
                                    "MIN_PERCENTILE_RANKING": "18.75",
                                    "TIME_INTERVAL(MONTH)": "12"
                                },
                                {
                                    "interest_id": "4855",
                                    "MONTH_YEAR_MAX_PERCENTILE": "2018-07-01",
                                    "MAX_PERCENTILE_RANKING": "88.2",
                                    "MONTH_YEAR_MIN_PERCENTILE": "2018-11-01",
                                    "MIN_PERCENTILE_RANKING": "13.15",
                                    "TIME_INTERVAL(MONTH)": "4"
                                },
                                {
                                    "interest_id": "6087",
                                    "MONTH_YEAR_MAX_PERCENTILE": "2018-07-01",
                                    "MAX_PERCENTILE_RANKING": "81.89",
                                    "MONTH_YEAR_MIN_PERCENTILE": "2019-02-01",
                                    "MIN_PERCENTILE_RANKING": "0.71",
                                    "TIME_INTERVAL(MONTH)": "7"
                                },
                                {
                                    "interest_id": "38992",
                                    "MONTH_YEAR_MAX_PERCENTILE": "2018-11-01",
                                    "MAX_PERCENTILE_RANKING": "82.44",
                                    "MONTH_YEAR_MIN_PERCENTILE": "2019-07-01",
                                    "MIN_PERCENTILE_RANKING": "2.2",
                                    "TIME_INTERVAL(MONTH)": "8"
                                },
                                {
                                    "interest_id": "43546",
                                    "MONTH_YEAR_MAX_PERCENTILE": "2019-03-01",
                                    "MAX_PERCENTILE_RANKING": "73.15",
                                    "MONTH_YEAR_MIN_PERCENTILE": "2019-06-01",
                                    "MIN_PERCENTILE_RANKING": "5.7",
                                    "TIME_INTERVAL(MONTH)": "3"
                                }
                            ]
                        },
                        "text/html": [
                            "<table>",
                            "<tr><th>interest_id</th><th>MONTH_YEAR_MAX_PERCENTILE</th><th>MAX_PERCENTILE_RANKING</th><th>MONTH_YEAR_MIN_PERCENTILE</th><th>MIN_PERCENTILE_RANKING</th><th>TIME_INTERVAL(MONTH)</th></tr>",
                            "<tr><td>103</td><td>2018-07-01</td><td>95.61</td><td>2019-07-01</td><td>18.75</td><td>12</td></tr>",
                            "<tr><td>4855</td><td>2018-07-01</td><td>88.2</td><td>2018-11-01</td><td>13.15</td><td>4</td></tr>",
                            "<tr><td>6087</td><td>2018-07-01</td><td>81.89</td><td>2019-02-01</td><td>0.71</td><td>7</td></tr>",
                            "<tr><td>38992</td><td>2018-11-01</td><td>82.44</td><td>2019-07-01</td><td>2.2</td><td>8</td></tr>",
                            "<tr><td>43546</td><td>2019-03-01</td><td>73.15</td><td>2019-06-01</td><td>5.7</td><td>3</td></tr>",
                            "</table>"
                        ]
                    }
                }
            ],
            "execution_count": 15
        },
        {
            "cell_type": "markdown",
            "source": [
                "5. How would you describe our customers in this segment based off their composition and ranking values? What sort of products or services should we show to these customers and what should we avoid?"
            ],
            "metadata": {
                "language": "sql",
                "azdata_cell_guid": "26bd32e6-a26c-4fc6-a3b8-fab2cf4bfe0d"
            },
            "attachments": {}
        },
        {
            "cell_type": "code",
            "source": [
                "--- average ranking như thế nào? \r\n",
                "--- Engagement time như thế nào?\r\n",
                "--- Thời gian từ lúc launch online ad cho đến khi đạt được max Composition là bao lâu?\r\n",
                "WITH CTE0 AS \r\n",
                "    (SELECT\r\n",
                "        DISTINCT(interest_name) AS INTEREST_NAME,\r\n",
                "        (MAX(T1.RANKING) OVER (PARTITION BY CAST(T2.interest_name AS VARCHAR(255))) - MIN(T1.ranking) OVER (PARTITION BY CAST(T2.interest_name AS VARCHAR(255)))) AS RANKING_RANGE\r\n",
                "    FROM filtered_data T1 JOIN fresh_segments.interest_map T2 \r\n",
                "        ON T1.interest_id = T2.id),\r\n",
                "CTE1 AS\r\n",
                "    (\r\n",
                "    SELECT\r\n",
                "        T2.interest_name,\r\n",
                "        CAST(CAST(T1.month_year + '-01' AS nvarchar(10)) AS date) AS ConvertedDate\r\n",
                "    FROM filtered_data T1 JOIN fresh_segments.interest_map T2\r\n",
                "        ON T1.interest_id = T2.id\r\n",
                "    ),\r\n",
                "CTE2 AS \r\n",
                "    (\r\n",
                "        SELECT\r\n",
                "            DISTINCT(interest_name),\r\n",
                "            DATEDIFF(MONTH,\r\n",
                "                MIN(ConvertedDate) OVER (PARTITION BY interest_name ORDER BY ConvertedDate),\r\n",
                "                    MAX(ConvertedDate) OVER (PARTITION BY interest_name ORDER BY ConvertedDate)) AS ENGAGEMENT_TIME\r\n",
                "        FROM CTE1 \r\n",
                "    ),\r\n",
                "CTE4 AS \r\n",
                "    (    SELECT \r\n",
                "            DISTINCT(interest_name) AS INTEREST_NAME,\r\n",
                "            T2.created_at,\r\n",
                "            MAX(T1.composition) OVER (PARTITION BY CAST(T2.interest_name AS VARCHAR(255)) ORDER BY CAST(T2.interest_name AS VARCHAR(255))) MAX_COMPOSITION\r\n",
                "        FROM filtered_data T1 JOIN fresh_segments.interest_map T2\r\n",
                "            ON T1.interest_id = T2.id),\r\n",
                "CTE5 AS\r\n",
                "    (SELECT \r\n",
                "        D3.INTEREST_NAME,\r\n",
                "        D3.created_at,\r\n",
                "        D1._month,\r\n",
                "        D1._year,\r\n",
                "        D3.MAX_COMPOSITION\r\n",
                "    FROM (filtered_data D1 JOIN fresh_segments.interest_map D2 \r\n",
                "        ON D1.interest_id = D2.id) JOIN CTE4 D3 \r\n",
                "            ON D2.interest_name = D3.INTEREST_NAME AND D3.MAX_COMPOSITION = D1.composition)\r\n",
                "\r\n",
                "SELECT TOP 10\r\n",
                "    P1.INTEREST_NAME,\r\n",
                "    P3.RANKING_RANGE,\r\n",
                "    P2.ENGAGEMENT_TIME,\r\n",
                "    (CASE \r\n",
                "        WHEN P1._year = YEAR(P1.created_at) THEN P1._month - MONTH(P1.created_at)\r\n",
                "            ELSE (12 - MONTH(P1.created_at)) + P1._month END) AS [HIGHEST COMPOSITION TIME(MONTH)]\r\n",
                "FROM (CTE5 P1 JOIN CTE2 P2 \r\n",
                "    ON P1.INTEREST_NAME = P2.INTEREST_NAME) JOIN CTE0 P3\r\n",
                "        ON P1.INTEREST_NAME = P3.INTEREST_NAME\r\n",
                "ORDER BY [HIGHEST COMPOSITION TIME(MONTH)] ASC ,\r\n",
                "            ENGAGEMENT_TIME DESC ,\r\n",
                "                RANKING_RANGE ASC\r\n",
                "\r\n",
                "--- có thể miêu tả khách hàng theo 3 tiêu chí đó chính\r\n",
                "-- RANKING RANGE: cho biết phạm vi của ranking của các online ad, nếu có giá trị lớn, các thứ hạng của online ad này phân tán rộng, có sự khác biệ1 nhiều giữa thứ hạng lớn nhất và nhỏ nhất & ngược lại\r\n",
                "-- ENGAGEMENT TIME: thời gian tối đa online ad nhận được sự tương tác từ khách hàng\r\n",
                "-- HIGHEST COMPOSITION TIME: khoảng thời gian mà online ad đạt được max Composition\r\n",
                "\r\n",
                "\r\n",
                "--- Dựa trên các chỉ tiêu này, có thể sắp xếp những online ad có Highest Composition Time ngắn nhất, sau đó là đến những online ad có Engagement Time lâu nhất."
            ],
            "metadata": {
                "language": "sql",
                "azdata_cell_guid": "0265a81c-ef20-441d-b00a-e265d5bea006",
                "tags": []
            },
            "outputs": [
                {
                    "output_type": "display_data",
                    "data": {
                        "text/html": "(10 rows affected)"
                    },
                    "metadata": {}
                },
                {
                    "output_type": "display_data",
                    "data": {
                        "text/html": "Total execution time: 00:00:20.831"
                    },
                    "metadata": {}
                },
                {
                    "output_type": "execute_result",
                    "metadata": {},
                    "execution_count": 4,
                    "data": {
                        "application/vnd.dataresource+json": {
                            "schema": {
                                "fields": [
                                    {
                                        "name": "INTEREST_NAME"
                                    },
                                    {
                                        "name": "RANKING_RANGE"
                                    },
                                    {
                                        "name": "ENGAGEMENT_TIME"
                                    },
                                    {
                                        "name": "HIGHEST COMPOSITION TIME(MONTH)"
                                    }
                                ]
                            },
                            "data": [
                                {
                                    "INTEREST_NAME": "Major Airline Customers",
                                    "RANKING_RANGE": "169",
                                    "ENGAGEMENT_TIME": "13",
                                    "HIGHEST COMPOSITION TIME(MONTH)": "0"
                                },
                                {
                                    "INTEREST_NAME": "Romantics",
                                    "RANKING_RANGE": "515",
                                    "ENGAGEMENT_TIME": "13",
                                    "HIGHEST COMPOSITION TIME(MONTH)": "0"
                                },
                                {
                                    "INTEREST_NAME": "Sun Protection Shoppers",
                                    "RANKING_RANGE": "76",
                                    "ENGAGEMENT_TIME": "12",
                                    "HIGHEST COMPOSITION TIME(MONTH)": "0"
                                },
                                {
                                    "INTEREST_NAME": "Major Airline Customers",
                                    "RANKING_RANGE": "169",
                                    "ENGAGEMENT_TIME": "12",
                                    "HIGHEST COMPOSITION TIME(MONTH)": "0"
                                },
                                {
                                    "INTEREST_NAME": "Jazz Festival Enthusiasts",
                                    "RANKING_RANGE": "210",
                                    "ENGAGEMENT_TIME": "12",
                                    "HIGHEST COMPOSITION TIME(MONTH)": "0"
                                },
                                {
                                    "INTEREST_NAME": "Toronto Blue Jays Fans",
                                    "RANKING_RANGE": "311",
                                    "ENGAGEMENT_TIME": "12",
                                    "HIGHEST COMPOSITION TIME(MONTH)": "0"
                                },
                                {
                                    "INTEREST_NAME": "Candy Shoppers",
                                    "RANKING_RANGE": "356",
                                    "ENGAGEMENT_TIME": "12",
                                    "HIGHEST COMPOSITION TIME(MONTH)": "0"
                                },
                                {
                                    "INTEREST_NAME": "Pittsburgh Steelers Fans",
                                    "RANKING_RANGE": "467",
                                    "ENGAGEMENT_TIME": "12",
                                    "HIGHEST COMPOSITION TIME(MONTH)": "0"
                                },
                                {
                                    "INTEREST_NAME": "Cookie Eaters",
                                    "RANKING_RANGE": "491",
                                    "ENGAGEMENT_TIME": "12",
                                    "HIGHEST COMPOSITION TIME(MONTH)": "0"
                                },
                                {
                                    "INTEREST_NAME": "New England Patriots Fans",
                                    "RANKING_RANGE": "498",
                                    "ENGAGEMENT_TIME": "12",
                                    "HIGHEST COMPOSITION TIME(MONTH)": "0"
                                }
                            ]
                        },
                        "text/html": [
                            "<table>",
                            "<tr><th>INTEREST_NAME</th><th>RANKING_RANGE</th><th>ENGAGEMENT_TIME</th><th>HIGHEST COMPOSITION TIME(MONTH)</th></tr>",
                            "<tr><td>Major Airline Customers</td><td>169</td><td>13</td><td>0</td></tr>",
                            "<tr><td>Romantics</td><td>515</td><td>13</td><td>0</td></tr>",
                            "<tr><td>Sun Protection Shoppers</td><td>76</td><td>12</td><td>0</td></tr>",
                            "<tr><td>Major Airline Customers</td><td>169</td><td>12</td><td>0</td></tr>",
                            "<tr><td>Jazz Festival Enthusiasts</td><td>210</td><td>12</td><td>0</td></tr>",
                            "<tr><td>Toronto Blue Jays Fans</td><td>311</td><td>12</td><td>0</td></tr>",
                            "<tr><td>Candy Shoppers</td><td>356</td><td>12</td><td>0</td></tr>",
                            "<tr><td>Pittsburgh Steelers Fans</td><td>467</td><td>12</td><td>0</td></tr>",
                            "<tr><td>Cookie Eaters</td><td>491</td><td>12</td><td>0</td></tr>",
                            "<tr><td>New England Patriots Fans</td><td>498</td><td>12</td><td>0</td></tr>",
                            "</table>"
                        ]
                    }
                }
            ],
            "execution_count": 4
        },
        {
            "cell_type": "markdown",
            "source": [
                "Index Analysis\r\n",
                "1. What is the top 10 interests by the average composition for each month?"
            ],
            "metadata": {
                "language": "sql",
                "azdata_cell_guid": "6290adda-b09a-4124-ba83-9dda67e13d09"
            },
            "attachments": {}
        },
        {
            "cell_type": "code",
            "source": [
                "WITH CTE0 AS \r\n",
                "    (SELECT \r\n",
                "        ConvertedDate,\r\n",
                "        interest_id,\r\n",
                "        AVG(composition) OVER (PARTITION BY ConvertedDate , interest_id ORDER BY composition DESC) AS AVG_COMPOSITION\r\n",
                "    FROM filtered_data\r\n",
                "    ),\r\n",
                "CTE1 AS\r\n",
                "    (\r\n",
                "    SELECT \r\n",
                "        ConvertedDate,\r\n",
                "        interest_id,\r\n",
                "        AVG_COMPOSITION,\r\n",
                "        DENSE_RANK() OVER (PARTITION BY ConvertedDate ORDER BY AVG_COMPOSITION DESC) AS AVG_COMPOSITION_RANKING\r\n",
                "    FROM CTE0\r\n",
                "    )\r\n",
                "\r\n",
                "SELECT TOP 10\r\n",
                "    ConvertedDate,\r\n",
                "    interest_id,\r\n",
                "    AVG_COMPOSITION,\r\n",
                "    AVG_COMPOSITION_RANKING\r\n",
                "FROM CTE1\r\n",
                "WHERE AVG_COMPOSITION_RANKING <= 10\r\n",
                ""
            ],
            "metadata": {
                "language": "sql",
                "azdata_cell_guid": "2c95604f-65a2-4d1c-96b3-a28ee5506a97",
                "tags": []
            },
            "outputs": [
                {
                    "output_type": "display_data",
                    "data": {
                        "text/html": "(10 rows affected)"
                    },
                    "metadata": {}
                },
                {
                    "output_type": "display_data",
                    "data": {
                        "text/html": "Total execution time: 00:00:00.414"
                    },
                    "metadata": {}
                },
                {
                    "output_type": "execute_result",
                    "metadata": {},
                    "execution_count": 17,
                    "data": {
                        "application/vnd.dataresource+json": {
                            "schema": {
                                "fields": [
                                    {
                                        "name": "ConvertedDate"
                                    },
                                    {
                                        "name": "interest_id"
                                    },
                                    {
                                        "name": "AVG_COMPOSITION"
                                    },
                                    {
                                        "name": "AVG_COMPOSITION_RANKING"
                                    }
                                ]
                            },
                            "data": [
                                {
                                    "ConvertedDate": "2018-07-01",
                                    "interest_id": "6284",
                                    "AVG_COMPOSITION": "18.82",
                                    "AVG_COMPOSITION_RANKING": "1"
                                },
                                {
                                    "ConvertedDate": "2018-07-01",
                                    "interest_id": "39",
                                    "AVG_COMPOSITION": "17.44",
                                    "AVG_COMPOSITION_RANKING": "2"
                                },
                                {
                                    "ConvertedDate": "2018-07-01",
                                    "interest_id": "77",
                                    "AVG_COMPOSITION": "17.19",
                                    "AVG_COMPOSITION_RANKING": "3"
                                },
                                {
                                    "ConvertedDate": "2018-07-01",
                                    "interest_id": "171",
                                    "AVG_COMPOSITION": "14.91",
                                    "AVG_COMPOSITION_RANKING": "4"
                                },
                                {
                                    "ConvertedDate": "2018-07-01",
                                    "interest_id": "4898",
                                    "AVG_COMPOSITION": "14.23",
                                    "AVG_COMPOSITION_RANKING": "5"
                                },
                                {
                                    "ConvertedDate": "2018-07-01",
                                    "interest_id": "6286",
                                    "AVG_COMPOSITION": "14.1",
                                    "AVG_COMPOSITION_RANKING": "6"
                                },
                                {
                                    "ConvertedDate": "2018-07-01",
                                    "interest_id": "4",
                                    "AVG_COMPOSITION": "13.97",
                                    "AVG_COMPOSITION_RANKING": "7"
                                },
                                {
                                    "ConvertedDate": "2018-07-01",
                                    "interest_id": "17786",
                                    "AVG_COMPOSITION": "13.67",
                                    "AVG_COMPOSITION_RANKING": "8"
                                },
                                {
                                    "ConvertedDate": "2018-07-01",
                                    "interest_id": "6184",
                                    "AVG_COMPOSITION": "13.35",
                                    "AVG_COMPOSITION_RANKING": "9"
                                },
                                {
                                    "ConvertedDate": "2018-07-01",
                                    "interest_id": "4897",
                                    "AVG_COMPOSITION": "12.93",
                                    "AVG_COMPOSITION_RANKING": "10"
                                }
                            ]
                        },
                        "text/html": [
                            "<table>",
                            "<tr><th>ConvertedDate</th><th>interest_id</th><th>AVG_COMPOSITION</th><th>AVG_COMPOSITION_RANKING</th></tr>",
                            "<tr><td>2018-07-01</td><td>6284</td><td>18.82</td><td>1</td></tr>",
                            "<tr><td>2018-07-01</td><td>39</td><td>17.44</td><td>2</td></tr>",
                            "<tr><td>2018-07-01</td><td>77</td><td>17.19</td><td>3</td></tr>",
                            "<tr><td>2018-07-01</td><td>171</td><td>14.91</td><td>4</td></tr>",
                            "<tr><td>2018-07-01</td><td>4898</td><td>14.23</td><td>5</td></tr>",
                            "<tr><td>2018-07-01</td><td>6286</td><td>14.1</td><td>6</td></tr>",
                            "<tr><td>2018-07-01</td><td>4</td><td>13.97</td><td>7</td></tr>",
                            "<tr><td>2018-07-01</td><td>17786</td><td>13.67</td><td>8</td></tr>",
                            "<tr><td>2018-07-01</td><td>6184</td><td>13.35</td><td>9</td></tr>",
                            "<tr><td>2018-07-01</td><td>4897</td><td>12.93</td><td>10</td></tr>",
                            "</table>"
                        ]
                    }
                }
            ],
            "execution_count": 17
        },
        {
            "cell_type": "markdown",
            "source": [
                "2. For all of these top 10 interests - which interest appears the most often?"
            ],
            "metadata": {
                "language": "sql",
                "azdata_cell_guid": "08245d19-f445-4d9c-a104-82b45ca2980b"
            },
            "attachments": {}
        },
        {
            "cell_type": "code",
            "source": [
                "WITH CTE0 AS \r\n",
                "    (SELECT \r\n",
                "        ConvertedDate,\r\n",
                "        interest_id,\r\n",
                "        AVG(composition) OVER (PARTITION BY ConvertedDate , interest_id ORDER BY composition DESC) AS AVG_COMPOSITION\r\n",
                "    FROM filtered_data\r\n",
                "    ),\r\n",
                "CTE1 AS\r\n",
                "    (\r\n",
                "    SELECT \r\n",
                "        ConvertedDate,\r\n",
                "        interest_id,\r\n",
                "        AVG_COMPOSITION,\r\n",
                "        DENSE_RANK() OVER (PARTITION BY ConvertedDate ORDER BY AVG_COMPOSITION DESC) AS AVG_COMPOSITION_RANKING\r\n",
                "    FROM CTE0\r\n",
                "    ),\r\n",
                "CTE2 AS\r\n",
                "    (\r\n",
                "    SELECT \r\n",
                "        ConvertedDate,\r\n",
                "        interest_id,\r\n",
                "        AVG_COMPOSITION,\r\n",
                "        AVG_COMPOSITION_RANKING\r\n",
                "    FROM CTE1\r\n",
                "    WHERE AVG_COMPOSITION_RANKING <= 10\r\n",
                "    ),\r\n",
                "CTE3 AS\r\n",
                "    (\r\n",
                "    SELECT \r\n",
                "        interest_id,\r\n",
                "        COUNT(ConvertedDate) AS COUNT \r\n",
                "    FROM CTE2\r\n",
                "    GROUP BY interest_id\r\n",
                "    ),\r\n",
                "CTE4 AS \r\n",
                "    (\r\n",
                "    SELECT \r\n",
                "        interest_id,\r\n",
                "        COUNT,\r\n",
                "        DENSE_RANK() OVER (ORDER BY COUNT DESC) AS RANK\r\n",
                "    FROM CTE3\r\n",
                "    )\r\n",
                "\r\n",
                "SELECT \r\n",
                "    interest_id \r\n",
                "FROM CTE4\r\n",
                "WHERE RANK = 1"
            ],
            "metadata": {
                "language": "sql",
                "azdata_cell_guid": "8e67e719-5d74-42dd-8a06-e2c5a12c0b3c",
                "tags": []
            },
            "outputs": [
                {
                    "output_type": "display_data",
                    "data": {
                        "text/html": "(3 rows affected)"
                    },
                    "metadata": {}
                },
                {
                    "output_type": "display_data",
                    "data": {
                        "text/html": "Total execution time: 00:00:00.471"
                    },
                    "metadata": {}
                },
                {
                    "output_type": "execute_result",
                    "metadata": {},
                    "execution_count": 18,
                    "data": {
                        "application/vnd.dataresource+json": {
                            "schema": {
                                "fields": [
                                    {
                                        "name": "interest_id"
                                    }
                                ]
                            },
                            "data": [
                                {
                                    "interest_id": "12133"
                                },
                                {
                                    "interest_id": "5969"
                                },
                                {
                                    "interest_id": "6284"
                                }
                            ]
                        },
                        "text/html": [
                            "<table>",
                            "<tr><th>interest_id</th></tr>",
                            "<tr><td>12133</td></tr>",
                            "<tr><td>5969</td></tr>",
                            "<tr><td>6284</td></tr>",
                            "</table>"
                        ]
                    }
                }
            ],
            "execution_count": 18
        },
        {
            "cell_type": "markdown",
            "source": [
                "3. What is the average of the average composition for the top 10 interests for each month?"
            ],
            "metadata": {
                "language": "sql",
                "azdata_cell_guid": "a9113f4a-f3d1-465d-8d2c-5cf52d5a912c"
            },
            "attachments": {}
        },
        {
            "cell_type": "code",
            "source": [
                "WITH CTE AS \r\n",
                "(\r\n",
                "    SELECT\r\n",
                "        ConvertedDate,\r\n",
                "        interest_id,\r\n",
                "        AVG(composition) OVER (PARTITION BY ConvertedDate, interest_id ORDER BY ConvertedDate) AS AVG_COMPOSITION\r\n",
                "    FROM filtered_data\r\n",
                "),CTE1 AS\r\n",
                "(\r\n",
                "    SELECT\r\n",
                "        ConvertedDate,\r\n",
                "        interest_id,\r\n",
                "        AVG_COMPOSITION,\r\n",
                "        DENSE_RANK() OVER (PARTITION BY ConvertedDate ORDER BY AVG_COMPOSITION DESC) AS AVG_COMPOSITION_RANK\r\n",
                "    FROM CTE\r\n",
                "),CTE2 AS\r\n",
                "(\r\n",
                "    SELECT \r\n",
                "        ConvertedDate,\r\n",
                "        ROUND(AVG(AVG_COMPOSITION),2) AS [AVG OF AVG COMPOSITION FOR THE TOP 10 INTERESTS EACH MONTH]\r\n",
                "    FROM CTE1\r\n",
                "    WHERE AVG_COMPOSITION_RANK <= 10\r\n",
                "    GROUP BY ConvertedDate\r\n",
                ")\r\n",
                "\r\n",
                "SELECT \r\n",
                "    ConvertedDate,\r\n",
                "    [AVG OF AVG COMPOSITION FOR THE TOP 10 INTERESTS EACH MONTH]\r\n",
                "FROM CTE2"
            ],
            "metadata": {
                "language": "sql",
                "azdata_cell_guid": "b8c8c8c3-02da-408f-b479-d9be2ebc429c"
            },
            "outputs": [
                {
                    "output_type": "display_data",
                    "data": {
                        "text/html": "(14 rows affected)"
                    },
                    "metadata": {}
                },
                {
                    "output_type": "display_data",
                    "data": {
                        "text/html": "Total execution time: 00:00:00.391"
                    },
                    "metadata": {}
                },
                {
                    "output_type": "execute_result",
                    "metadata": {},
                    "execution_count": 24,
                    "data": {
                        "application/vnd.dataresource+json": {
                            "schema": {
                                "fields": [
                                    {
                                        "name": "ConvertedDate"
                                    },
                                    {
                                        "name": "AVG OF AVG COMPOSITION FOR THE TOP 10 INTERESTS EACH MONTH"
                                    }
                                ]
                            },
                            "data": [
                                {
                                    "ConvertedDate": "2018-07-01",
                                    "AVG OF AVG COMPOSITION FOR THE TOP 10 INTERESTS EACH MONTH": "15.06"
                                },
                                {
                                    "ConvertedDate": "2018-08-01",
                                    "AVG OF AVG COMPOSITION FOR THE TOP 10 INTERESTS EACH MONTH": "10.82"
                                },
                                {
                                    "ConvertedDate": "2018-09-01",
                                    "AVG OF AVG COMPOSITION FOR THE TOP 10 INTERESTS EACH MONTH": "12.2"
                                },
                                {
                                    "ConvertedDate": "2018-10-01",
                                    "AVG OF AVG COMPOSITION FOR THE TOP 10 INTERESTS EACH MONTH": "13.67"
                                },
                                {
                                    "ConvertedDate": "2018-11-01",
                                    "AVG OF AVG COMPOSITION FOR THE TOP 10 INTERESTS EACH MONTH": "12.26"
                                },
                                {
                                    "ConvertedDate": "2018-12-01",
                                    "AVG OF AVG COMPOSITION FOR THE TOP 10 INTERESTS EACH MONTH": "13.22"
                                },
                                {
                                    "ConvertedDate": "2019-01-01",
                                    "AVG OF AVG COMPOSITION FOR THE TOP 10 INTERESTS EACH MONTH": "12.11"
                                },
                                {
                                    "ConvertedDate": "2019-02-01",
                                    "AVG OF AVG COMPOSITION FOR THE TOP 10 INTERESTS EACH MONTH": "12.34"
                                },
                                {
                                    "ConvertedDate": "2019-03-01",
                                    "AVG OF AVG COMPOSITION FOR THE TOP 10 INTERESTS EACH MONTH": "10.89"
                                },
                                {
                                    "ConvertedDate": "2019-04-01",
                                    "AVG OF AVG COMPOSITION FOR THE TOP 10 INTERESTS EACH MONTH": "9.55"
                                },
                                {
                                    "ConvertedDate": "2019-05-01",
                                    "AVG OF AVG COMPOSITION FOR THE TOP 10 INTERESTS EACH MONTH": "6.38"
                                },
                                {
                                    "ConvertedDate": "2019-06-01",
                                    "AVG OF AVG COMPOSITION FOR THE TOP 10 INTERESTS EACH MONTH": "5.11"
                                },
                                {
                                    "ConvertedDate": "2019-07-01",
                                    "AVG OF AVG COMPOSITION FOR THE TOP 10 INTERESTS EACH MONTH": "5.73"
                                },
                                {
                                    "ConvertedDate": "2019-08-01",
                                    "AVG OF AVG COMPOSITION FOR THE TOP 10 INTERESTS EACH MONTH": "6.25"
                                }
                            ]
                        },
                        "text/html": [
                            "<table>",
                            "<tr><th>ConvertedDate</th><th>AVG OF AVG COMPOSITION FOR THE TOP 10 INTERESTS EACH MONTH</th></tr>",
                            "<tr><td>2018-07-01</td><td>15.06</td></tr>",
                            "<tr><td>2018-08-01</td><td>10.82</td></tr>",
                            "<tr><td>2018-09-01</td><td>12.2</td></tr>",
                            "<tr><td>2018-10-01</td><td>13.67</td></tr>",
                            "<tr><td>2018-11-01</td><td>12.26</td></tr>",
                            "<tr><td>2018-12-01</td><td>13.22</td></tr>",
                            "<tr><td>2019-01-01</td><td>12.11</td></tr>",
                            "<tr><td>2019-02-01</td><td>12.34</td></tr>",
                            "<tr><td>2019-03-01</td><td>10.89</td></tr>",
                            "<tr><td>2019-04-01</td><td>9.55</td></tr>",
                            "<tr><td>2019-05-01</td><td>6.38</td></tr>",
                            "<tr><td>2019-06-01</td><td>5.11</td></tr>",
                            "<tr><td>2019-07-01</td><td>5.73</td></tr>",
                            "<tr><td>2019-08-01</td><td>6.25</td></tr>",
                            "</table>"
                        ]
                    }
                }
            ],
            "execution_count": 24
        },
        {
            "cell_type": "markdown",
            "source": [
                "4. What is the 3 month rolling average of the max average composition value from September 2018 to August 2019 and include the previous top ranking interests in the same output shown below."
            ],
            "metadata": {
                "language": "sql",
                "azdata_cell_guid": "3b512e14-0010-4e2e-9905-b71d57bd1ead"
            },
            "attachments": {}
        },
        {
            "cell_type": "code",
            "source": [
                "WITH CTE AS \r\n",
                "(\r\n",
                "    SELECT \r\n",
                "        ConvertedDate,\r\n",
                "        T2.interest_name,\r\n",
                "        AVG(T1.composition) OVER (PARTITION BY T1.ConvertedDate , T2.INTEREST_NAME ORDER BY ConvertedDate) AS [MAX AVG COMPOSITION]\r\n",
                "    FROM filtered_data T1 JOIN Fresh_Segments.interest_map T2\r\n",
                "        ON T1.interest_id = T2.id\r\n",
                "), CTE1 AS \r\n",
                "(\r\n",
                "    SELECT \r\n",
                "        ConvertedDate,\r\n",
                "        interest_name,\r\n",
                "        [MAX AVG COMPOSITION],\r\n",
                "        DENSE_RANK() OVER (PARTITION BY ConvertedDate ORDER BY [MAX AVG COMPOSITION] DESC) AS AVG_COMPOSITION_RANK\r\n",
                "    FROM CTE\r\n",
                "),CTE2 AS \r\n",
                "(\r\n",
                "    SELECT\r\n",
                "        ConvertedDate,\r\n",
                "        interest_name,\r\n",
                "        [MAX AVG COMPOSITION],\r\n",
                "        AVG_COMPOSITION_RANK\r\n",
                "    FROM CTE1\r\n",
                "    WHERE AVG_COMPOSITION_RANK = 1\r\n",
                "),CTE3 AS \r\n",
                "(\r\n",
                "    SELECT \r\n",
                "        ConvertedDate,\r\n",
                "        interest_name,\r\n",
                "        [MAX AVG COMPOSITION],\r\n",
                "        AVG([MAX AVG COMPOSITION]) OVER (ORDER BY ConvertedDate ROWS BETWEEN CURRENT ROW AND 2 FOLLOWING) AS [3 MONTHS MOVING AVERAGE]\r\n",
                "    FROM CTE2\r\n",
                "),CTE4 AS\r\n",
                "(\r\n",
                "    SELECT\r\n",
                "        ConvertedDate,\r\n",
                "        interest_name,\r\n",
                "        [MAX AVG COMPOSITION],\r\n",
                "        [3 MONTHS MOVING AVERAGE],\r\n",
                "        LAG(CONCAT(interest_name,': ',[MAX AVG COMPOSITION]),1,'NO INFO') OVER (ORDER BY ConvertedDate) AS [1 MONTH AGO],\r\n",
                "        LAG(CONCAT(interest_name,': ',[MAX AVG COMPOSITION]),2,'NO INFO') OVER (ORDER BY ConvertedDate) AS [2 MONTHS AGO]\r\n",
                "    FROM CTE3 \r\n",
                ")\r\n",
                "\r\n",
                "SELECT \r\n",
                "    ConvertedDate,\r\n",
                "    interest_name,\r\n",
                "    [MAX AVG COMPOSITION],\r\n",
                "    ROUND([3 MONTHS MOVING AVERAGE],2) AS [3 MONTHS MOVING AVERAGE],\r\n",
                "    [1 MONTH AGO],\r\n",
                "    [2 MONTHS AGO]\r\n",
                "FROM CTE4\r\n",
                "WHERE ConvertedDate BETWEEN '2018-09-01' AND '2019-08-01'"
            ],
            "metadata": {
                "language": "sql",
                "azdata_cell_guid": "a093d11f-7a24-4d98-84a4-e9fdb546fad6",
                "tags": []
            },
            "outputs": [
                {
                    "output_type": "display_data",
                    "data": {
                        "text/html": "(12 rows affected)"
                    },
                    "metadata": {}
                },
                {
                    "output_type": "display_data",
                    "data": {
                        "text/html": "Total execution time: 00:00:00.386"
                    },
                    "metadata": {}
                },
                {
                    "output_type": "execute_result",
                    "metadata": {},
                    "execution_count": 28,
                    "data": {
                        "application/vnd.dataresource+json": {
                            "schema": {
                                "fields": [
                                    {
                                        "name": "ConvertedDate"
                                    },
                                    {
                                        "name": "interest_name"
                                    },
                                    {
                                        "name": "MAX AVG COMPOSITION"
                                    },
                                    {
                                        "name": "3 MONTHS MOVING AVERAGE"
                                    },
                                    {
                                        "name": "1 MONTH AGO"
                                    },
                                    {
                                        "name": "2 MONTHS AGO"
                                    }
                                ]
                            },
                            "data": [
                                {
                                    "ConvertedDate": "2018-09-01",
                                    "interest_name": "Work Comes First Travelers",
                                    "MAX AVG COMPOSITION": "18.18",
                                    "3 MONTHS MOVING AVERAGE": "19.3",
                                    "1 MONTH AGO": "Gym Equipment Owners: 13.9",
                                    "2 MONTHS AGO": "Gym Equipment Owners: 18.82"
                                },
                                {
                                    "ConvertedDate": "2018-10-01",
                                    "interest_name": "Work Comes First Travelers",
                                    "MAX AVG COMPOSITION": "20.28",
                                    "3 MONTHS MOVING AVERAGE": "20.31",
                                    "1 MONTH AGO": "Work Comes First Travelers: 18.18",
                                    "2 MONTHS AGO": "Gym Equipment Owners: 13.9"
                                },
                                {
                                    "ConvertedDate": "2018-11-01",
                                    "interest_name": "Work Comes First Travelers",
                                    "MAX AVG COMPOSITION": "19.45",
                                    "3 MONTHS MOVING AVERAGE": "19.88",
                                    "1 MONTH AGO": "Work Comes First Travelers: 20.28",
                                    "2 MONTHS AGO": "Work Comes First Travelers: 18.18"
                                },
                                {
                                    "ConvertedDate": "2018-12-01",
                                    "interest_name": "Work Comes First Travelers",
                                    "MAX AVG COMPOSITION": "21.2",
                                    "3 MONTHS MOVING AVERAGE": "19.53",
                                    "1 MONTH AGO": "Work Comes First Travelers: 19.45",
                                    "2 MONTHS AGO": "Work Comes First Travelers: 20.28"
                                },
                                {
                                    "ConvertedDate": "2019-01-01",
                                    "interest_name": "Work Comes First Travelers",
                                    "MAX AVG COMPOSITION": "18.99",
                                    "3 MONTHS MOVING AVERAGE": "16.67",
                                    "1 MONTH AGO": "Work Comes First Travelers: 21.2",
                                    "2 MONTHS AGO": "Work Comes First Travelers: 19.45"
                                },
                                {
                                    "ConvertedDate": "2019-02-01",
                                    "interest_name": "Work Comes First Travelers",
                                    "MAX AVG COMPOSITION": "18.39",
                                    "3 MONTHS MOVING AVERAGE": "14.01",
                                    "1 MONTH AGO": "Work Comes First Travelers: 18.99",
                                    "2 MONTHS AGO": "Work Comes First Travelers: 21.2"
                                },
                                {
                                    "ConvertedDate": "2019-03-01",
                                    "interest_name": "Luxury Boutique Hotel Researchers",
                                    "MAX AVG COMPOSITION": "12.64",
                                    "3 MONTHS MOVING AVERAGE": "10.39",
                                    "1 MONTH AGO": "Work Comes First Travelers: 18.39",
                                    "2 MONTHS AGO": "Work Comes First Travelers: 18.99"
                                },
                                {
                                    "ConvertedDate": "2019-04-01",
                                    "interest_name": "Luxury Bedding Shoppers",
                                    "MAX AVG COMPOSITION": "11.01",
                                    "3 MONTHS MOVING AVERAGE": "8.49",
                                    "1 MONTH AGO": "Luxury Boutique Hotel Researchers: 12.64",
                                    "2 MONTHS AGO": "Work Comes First Travelers: 18.39"
                                },
                                {
                                    "ConvertedDate": "2019-05-01",
                                    "interest_name": "Luxury Bedding Shoppers",
                                    "MAX AVG COMPOSITION": "7.53",
                                    "3 MONTHS MOVING AVERAGE": "7.22",
                                    "1 MONTH AGO": "Luxury Bedding Shoppers: 11.01",
                                    "2 MONTHS AGO": "Luxury Boutique Hotel Researchers: 12.64"
                                },
                                {
                                    "ConvertedDate": "2019-06-01",
                                    "interest_name": "Gym Equipment Owners",
                                    "MAX AVG COMPOSITION": "6.94",
                                    "3 MONTHS MOVING AVERAGE": "7.08",
                                    "1 MONTH AGO": "Luxury Bedding Shoppers: 7.53",
                                    "2 MONTHS AGO": "Luxury Bedding Shoppers: 11.01"
                                },
                                {
                                    "ConvertedDate": "2019-07-01",
                                    "interest_name": "Gym Equipment Owners",
                                    "MAX AVG COMPOSITION": "7.19",
                                    "3 MONTHS MOVING AVERAGE": "7.14",
                                    "1 MONTH AGO": "Gym Equipment Owners: 6.94",
                                    "2 MONTHS AGO": "Luxury Bedding Shoppers: 7.53"
                                },
                                {
                                    "ConvertedDate": "2019-08-01",
                                    "interest_name": "Gym Equipment Owners",
                                    "MAX AVG COMPOSITION": "7.1",
                                    "3 MONTHS MOVING AVERAGE": "7.1",
                                    "1 MONTH AGO": "Gym Equipment Owners: 7.19",
                                    "2 MONTHS AGO": "Gym Equipment Owners: 6.94"
                                }
                            ]
                        },
                        "text/html": [
                            "<table>",
                            "<tr><th>ConvertedDate</th><th>interest_name</th><th>MAX AVG COMPOSITION</th><th>3 MONTHS MOVING AVERAGE</th><th>1 MONTH AGO</th><th>2 MONTHS AGO</th></tr>",
                            "<tr><td>2018-09-01</td><td>Work Comes First Travelers</td><td>18.18</td><td>19.3</td><td>Gym Equipment Owners: 13.9</td><td>Gym Equipment Owners: 18.82</td></tr>",
                            "<tr><td>2018-10-01</td><td>Work Comes First Travelers</td><td>20.28</td><td>20.31</td><td>Work Comes First Travelers: 18.18</td><td>Gym Equipment Owners: 13.9</td></tr>",
                            "<tr><td>2018-11-01</td><td>Work Comes First Travelers</td><td>19.45</td><td>19.88</td><td>Work Comes First Travelers: 20.28</td><td>Work Comes First Travelers: 18.18</td></tr>",
                            "<tr><td>2018-12-01</td><td>Work Comes First Travelers</td><td>21.2</td><td>19.53</td><td>Work Comes First Travelers: 19.45</td><td>Work Comes First Travelers: 20.28</td></tr>",
                            "<tr><td>2019-01-01</td><td>Work Comes First Travelers</td><td>18.99</td><td>16.67</td><td>Work Comes First Travelers: 21.2</td><td>Work Comes First Travelers: 19.45</td></tr>",
                            "<tr><td>2019-02-01</td><td>Work Comes First Travelers</td><td>18.39</td><td>14.01</td><td>Work Comes First Travelers: 18.99</td><td>Work Comes First Travelers: 21.2</td></tr>",
                            "<tr><td>2019-03-01</td><td>Luxury Boutique Hotel Researchers</td><td>12.64</td><td>10.39</td><td>Work Comes First Travelers: 18.39</td><td>Work Comes First Travelers: 18.99</td></tr>",
                            "<tr><td>2019-04-01</td><td>Luxury Bedding Shoppers</td><td>11.01</td><td>8.49</td><td>Luxury Boutique Hotel Researchers: 12.64</td><td>Work Comes First Travelers: 18.39</td></tr>",
                            "<tr><td>2019-05-01</td><td>Luxury Bedding Shoppers</td><td>7.53</td><td>7.22</td><td>Luxury Bedding Shoppers: 11.01</td><td>Luxury Boutique Hotel Researchers: 12.64</td></tr>",
                            "<tr><td>2019-06-01</td><td>Gym Equipment Owners</td><td>6.94</td><td>7.08</td><td>Luxury Bedding Shoppers: 7.53</td><td>Luxury Bedding Shoppers: 11.01</td></tr>",
                            "<tr><td>2019-07-01</td><td>Gym Equipment Owners</td><td>7.19</td><td>7.14</td><td>Gym Equipment Owners: 6.94</td><td>Luxury Bedding Shoppers: 7.53</td></tr>",
                            "<tr><td>2019-08-01</td><td>Gym Equipment Owners</td><td>7.1</td><td>7.1</td><td>Gym Equipment Owners: 7.19</td><td>Gym Equipment Owners: 6.94</td></tr>",
                            "</table>"
                        ]
                    }
                }
            ],
            "execution_count": 28
        }
    ]
}